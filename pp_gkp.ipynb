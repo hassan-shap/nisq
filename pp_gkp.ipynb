{
 "cells": [
  {
   "cell_type": "code",
   "execution_count": 4,
   "id": "2f6194a7-95d8-48e3-8786-95319f186953",
   "metadata": {},
   "outputs": [],
   "source": [
    "import numpy as np\n",
    "import matplotlib.pyplot as plt\n",
    "import random\n",
    "from math import pi, sqrt\n",
    "from scipy.special import erf \n",
    "import os"
   ]
  },
  {
   "cell_type": "markdown",
   "id": "b63e8844-24da-4f59-80e4-bac9fa862a7f",
   "metadata": {},
   "source": [
    "## hadamard"
   ]
  },
  {
   "cell_type": "code",
   "execution_count": 30,
   "id": "93efb765-4331-4526-b192-0d3d19375b9b",
   "metadata": {},
   "outputs": [
    {
     "data": {
      "image/png": "[encoded data removed]",
      "text/plain": [
       "<Figure size 360x216 with 1 Axes>"
      ]
     },
     "metadata": {
      "needs_background": "light"
     },
     "output_type": "display_data"
    }
   ],
   "source": [
    "repeat = 24\n",
    "η_list = [0.85]# np.array([0.75,0.85,0.95,1.0])\n",
    "# η_list = np.array([0.75,0.85,0.95,1.0])\n",
    "\n",
    "\n",
    "plt.figure(1,figsize=(5,3))\n",
    "\n",
    "def success_prob_calc(Δ):\n",
    "    return (erf( (pi**0.5)/(2*Δ) )- erf(-(pi**0.5)/(2*Δ) )  )/2\n",
    "\n",
    "\n",
    "for i_n, η in enumerate(η_list):\n",
    "    σm2 = (1-η)/(2*η)\n",
    "    first = True\n",
    "    for i_rep in range(repeat):\n",
    "        fname = \"data_hadamard/\" + \"sc_eq_sgkp_p_%.2f_i_%d.npz\" % (η,i_rep)\n",
    "\n",
    "        if os.path.exists(fname):\n",
    "            npz_file = np.load(fname)\n",
    "            σ2_list, probX_mc, probY_mc, probZ_mc, Nrep = npz_file['σ2_list'], npz_file['probX_mc'], npz_file['probY_mc'], npz_file['probZ_mc'], npz_file['Nrep']\n",
    "\n",
    "            if first :\n",
    "                first = False\n",
    "                probX_avg = np.zeros(len(σ2_list))\n",
    "                probY_avg = np.zeros(len(σ2_list))\n",
    "                probZ_avg = np.zeros(len(σ2_list))\n",
    "                Ntot = 0\n",
    "                prob_X = np.zeros((len(η_list),len(σ2_list)))\n",
    "                prob_Y = np.zeros((len(η_list),len(σ2_list)))\n",
    "\n",
    "            probX_avg += probX_mc*Nrep\n",
    "            probY_avg += probY_mc*Nrep\n",
    "            probZ_avg += probZ_mc*Nrep\n",
    "            Ntot += Nrep\n",
    "    for i_s, σgkp2 in enumerate(σ2_list):\n",
    "        σc2 = σgkp2\n",
    "        σn = (2**0.5) * ( 3*σgkp2+ 11/3*σc2 + σm2)**0.5\n",
    "        Xerr = 1-success_prob_calc(σn)\n",
    "        σn = (2**0.5) * ( (3*σgkp2+ 11/3*σc2+ σgkp2+ 2*σc2)/2 + σm2)**0.5\n",
    "        Yerr = 1-success_prob_calc(σn)\n",
    "        prob_X[i_n,i_s] = Xerr*(1-Yerr)**3+ Yerr*(1-Xerr)*(1-Yerr)**2+ Yerr**2*(1-Xerr)*(1-Yerr)+ Xerr**3\n",
    "        prob_Y[i_n,i_s] = Yerr*(1-Yerr)**2+ Yerr**2*(1-Yerr)\n",
    "    plt.plot(-10*np.log10(2*σ2_list),prob_X[i_n,:],\"-\", color=\"C%d\" % (2*i_n))\n",
    "    plt.plot(-10*np.log10(2*σ2_list),prob_Y[i_n,:],\"-\", color=\"C%d\" % (2*i_n+1))\n",
    "\n",
    "    if not first:\n",
    "        plt.plot(-10*np.log10(2*σ2_list),probX_avg/Ntot,\".\", color=\"C%d\" % (2*i_n), linewidth=1,label=\"MC, X, %.2f\" % (η))\n",
    "        plt.plot(-10*np.log10(2*σ2_list),probY_avg/Ntot,\".\", color=\"C%d\" % (2*i_n+1), linewidth=1,label=\"MC, Y, %.2f\" % (η))\n",
    "        # plt.plot(-10*np.log10(2*σ2_list),probZ_avg/Ntot,\".\", color=\"C%d\" % (i_n+2), linewidth=1,label=\"MC, Z, %.2f\" % (η))\n",
    "\n",
    "plt.yscale(\"log\")\n",
    "# plt.xscale(\"log\")\n",
    "plt.ylim(1e-5,5e-1)\n",
    "# plt.xlim(4,31)\n",
    "plt.xlabel(r\"$σ^2_{gkp}$\")\n",
    "plt.ylabel(\"Error prob.\")\n",
    "plt.grid()\n",
    "plt.legend(frameon=False,markerscale=2)\n",
    "plt.tight_layout()\n",
    "# plt.grid()\n",
    "# plt.savefig(\"figs/qdot-threshold.pdf\")\n",
    "plt.show()"
   ]
  },
  {
   "cell_type": "markdown",
   "id": "81378c2e-235b-4e6f-abc0-218908759306",
   "metadata": {},
   "source": [
    "## S gate"
   ]
  },
  {
   "cell_type": "code",
   "execution_count": 41,
   "id": "6903f2ff-a8cc-40d3-ac8a-d326a1a6273f",
   "metadata": {},
   "outputs": [
    {
     "data": {
      "image/png": "[encoded data removed]",
      "text/plain": [
       "<Figure size 360x216 with 1 Axes>"
      ]
     },
     "metadata": {
      "needs_background": "light"
     },
     "output_type": "display_data"
    }
   ],
   "source": [
    "repeat = 24\n",
    "η_list = [0.95]# np.array([0.75,0.85,0.95,1.0])\n",
    "# η_list = np.array([0.75,0.85,0.95,1.0])\n",
    "\n",
    "plt.figure(1,figsize=(5,3))\n",
    "\n",
    "def success_prob_calc(Δ):\n",
    "    return (erf( (pi**0.5)/(2*Δ) )- erf(-(pi**0.5)/(2*Δ) )  )/2\n",
    "\n",
    "\n",
    "for i_n, η in enumerate(η_list):\n",
    "    σm2 = (1-η)/(2*η)\n",
    "    first = True\n",
    "    for i_rep in range(repeat):\n",
    "        fname = \"data_Sgate/\" + \"sc_eq_sgkp_p_%.2f_i_%d.npz\" % (η,i_rep)\n",
    "\n",
    "        if os.path.exists(fname):\n",
    "            npz_file = np.load(fname)\n",
    "            σ2_list, probX_mc, probY_mc, probZ_mc, Nrep = npz_file['σ2_list'], npz_file['probX_mc'], npz_file['probY_mc'], npz_file['probZ_mc'], npz_file['Nrep']\n",
    "\n",
    "            if first :\n",
    "                first = False\n",
    "                probX_avg = np.zeros(len(σ2_list))\n",
    "                probY_avg = np.zeros(len(σ2_list))\n",
    "                probZ_avg = np.zeros(len(σ2_list))\n",
    "                Ntot = 0\n",
    "                prob_X = np.zeros((len(η_list),len(σ2_list)))\n",
    "                prob_Z = np.zeros((len(η_list),len(σ2_list)))\n",
    "\n",
    "            probX_avg += probX_mc*Nrep\n",
    "            probY_avg += probY_mc*Nrep\n",
    "            probZ_avg += probZ_mc*Nrep\n",
    "            Ntot += Nrep\n",
    "    for i_s, σgkp2 in enumerate(σ2_list):\n",
    "        σc2 = σgkp2\n",
    "        σn = (2**0.5) * ( 3*σgkp2+ 11/3*σc2 + σm2)**0.5\n",
    "        Xerr = 1-success_prob_calc(σn)\n",
    "        σn = (2**0.5) * ( (3*σgkp2+ 11/3*σc2+ σgkp2+ 2*σc2)/2 + σm2)**0.5\n",
    "        Yerr = 1-success_prob_calc(σn)\n",
    "        prob_X[i_n,i_s] = Xerr*(1-Xerr)\n",
    "        prob_Z[i_n,i_s] = Xerr**2 *(Xerr*Yerr+(1-Xerr)*(1-Yerr))+ (1-Xerr)**2 *(Xerr*(1-Yerr)+Yerr*(1-Xerr))\n",
    "    plt.plot(-10*np.log10(2*σ2_list),prob_X[i_n,:],\"-\", color=\"C%d\" % (2*i_n))\n",
    "    plt.plot(-10*np.log10(2*σ2_list),prob_Z[i_n,:],\"-\", color=\"C%d\" % (2*i_n+1))\n",
    "\n",
    "    if not first:\n",
    "        plt.plot(-10*np.log10(2*σ2_list),probX_avg/Ntot,\".\", color=\"C%d\" % (2*i_n), linewidth=1,label=\"MC, X, %.2f\" % (η))\n",
    "        plt.plot(-10*np.log10(2*σ2_list),probZ_avg/Ntot,\".\", color=\"C%d\" % (2*i_n+1), linewidth=1,label=\"MC, Y, %.2f\" % (η))\n",
    "        # plt.plot(-10*np.log10(2*σ2_list),probZ_avg/Ntot,\".\", color=\"C%d\" % (i_n+2), linewidth=1,label=\"MC, Z, %.2f\" % (η))\n",
    "\n",
    "plt.yscale(\"log\")\n",
    "# plt.xscale(\"log\")\n",
    "plt.ylim(1e-5,5e-1)\n",
    "# plt.xlim(4,31)\n",
    "plt.xlabel(r\"$σ^2_{gkp}$\")\n",
    "plt.ylabel(\"Error prob.\")\n",
    "plt.grid()\n",
    "plt.legend(frameon=False,markerscale=2)\n",
    "plt.tight_layout()\n",
    "# plt.grid()\n",
    "# plt.savefig(\"figs/qdot-threshold.pdf\")\n",
    "plt.show()"
   ]
  },
  {
   "cell_type": "code",
   "execution_count": null,
   "id": "cde75e1a-03b4-49af-9a00-27d691d6743a",
   "metadata": {},
   "outputs": [],
   "source": []
  }
 ],
 "metadata": {
  "kernelspec": {
   "display_name": "Python 3 (ipykernel)",
   "language": "python",
   "name": "python3"
  },
  "language_info": {
   "codemirror_mode": {
    "name": "ipython",
    "version": 3
   },
   "file_extension": ".py",
   "mimetype": "text/x-python",
   "name": "python",
   "nbconvert_exporter": "python",
   "pygments_lexer": "ipython3",
   "version": "3.9.12"
  }
 },
 "nbformat": 4,
 "nbformat_minor": 5
}
