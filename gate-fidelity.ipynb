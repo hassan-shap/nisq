{
 "cells": [
  {
   "cell_type": "code",
   "execution_count": 1,
   "id": "4f72bd66-f930-49e0-9ad0-fa42ebc0d836",
   "metadata": {},
   "outputs": [],
   "source": [
    "import numpy as np\n",
    "import matplotlib.pyplot as plt"
   ]
  },
  {
   "cell_type": "markdown",
   "id": "a89019be-34e2-4504-9e61-061744a9b787",
   "metadata": {},
   "source": [
    "## hadamard"
   ]
  },
  {
   "cell_type": "code",
   "execution_count": 102,
   "id": "1842bee0-2b3f-49cc-834e-c3e857ea3f92",
   "metadata": {},
   "outputs": [
    {
     "data": {
      "image/png": "[encoded data removed]",
      "text/plain": [
       "<Figure size 360x216 with 1 Axes>"
      ]
     },
     "metadata": {
      "needs_background": "light"
     },
     "output_type": "display_data"
    }
   ],
   "source": [
    "p = np.linspace(0,1,100)\n",
    "p_flip = 2*p/3\n",
    "p00 = (1-p_flip)**4 + 2*p_flip**3 * (1-p_flip) + p_flip**2 * (1-p_flip)**2 \n",
    "p01 = 2*p_flip * (1-p_flip)**3 + p_flip**2 * (1-p_flip)**2 + p_flip**4\n",
    "p10 = p_flip * (1-p_flip)**3 + 2* p_flip**2 * (1-p_flip)**2 + p_flip**3 * (1-p_flip)\n",
    "p11 = p_flip * (1-p_flip)**3 + 2* p_flip**2 * (1-p_flip)**2 + p_flip**3 * (1-p_flip)\n",
    "\n",
    "# plt.plot(p,p00+p01+p11+p10)\n",
    "\n",
    "F_avg = 0.5 + (3*p00-p01-p10-p11)/6 ## Eq.(18) of quant-ph/0205035\n",
    "plt.figure(figsize=(5,3))\n",
    "plt.plot(p,F_avg)\n",
    "plt.xlabel(\"p, dep. channel prob.\")\n",
    "plt.ylabel(\"mean fidelity of H\")\n",
    "plt.grid()\n",
    "plt.tight_layout()\n",
    "plt.savefig(\"figs/fidelity_H.pdf\")\n",
    "plt.show()"
   ]
  },
  {
   "cell_type": "markdown",
   "id": "f2e5acba-94f3-45b4-b7fa-7c9b7774cfe0",
   "metadata": {},
   "source": [
    "## two-qubit RB"
   ]
  },
  {
   "cell_type": "code",
   "execution_count": 172,
   "id": "5278eb0a-749c-4ce8-8c08-7c097238b4c0",
   "metadata": {},
   "outputs": [
    {
     "name": "stdout",
     "output_type": "stream",
     "text": [
      "circ. depth =  10\n",
      "circ. depth =  20\n",
      "circ. depth =  30\n",
      "circ. depth =  40\n",
      "circ. depth =  50\n",
      "circ. depth =  60\n",
      "circ. depth =  70\n",
      "circ. depth =  80\n",
      "circ. depth =  90\n",
      "circ. depth =  100\n"
     ]
    }
   ],
   "source": [
    "\n",
    "p_flip = 1e-3\n",
    "\n",
    "## hadmard error rates\n",
    "p00 = (1-p_flip)**4 + 2*p_flip**3 * (1-p_flip) + p_flip**2 * (1-p_flip)**2 \n",
    "p01 = 2*p_flip * (1-p_flip)**3 + p_flip**2 * (1-p_flip)**2 + p_flip**4\n",
    "p10 = p_flip * (1-p_flip)**3 + 2* p_flip**2 * (1-p_flip)**2 + p_flip**3 * (1-p_flip)\n",
    "p11 = p_flip * (1-p_flip)**3 + 2* p_flip**2 * (1-p_flip)**2 + p_flip**3 * (1-p_flip)\n",
    "elements = [0,1,2,3]\n",
    "prob_hadamard = [p00,p01,p10,p11]\n",
    "\n",
    "# vec_err = np.copy(vec)\n",
    "\n",
    "Nq = 2\n",
    "Ndepth_list = np.arange(10,101,10)\n",
    "Nrep = 1000\n",
    "err_val = np.zeros((Nrep,len(Ndepth_list)),dtype=np.complex64)\n",
    "err_avg = np.zeros(len(Ndepth_list),dtype=np.complex64)\n",
    "for i_Nd, Ndepth in enumerate(Ndepth_list): \n",
    "    print(\"circ. depth = \", Ndepth)\n",
    "    for i_r in range(Nrep):\n",
    "        vec = np.array([[0,0,1,0],[0,0,0,1]],dtype=int) ##  [ X1 X2|Z1 Z2 ]\n",
    "        vec_eval = np.array([1,1])\n",
    "\n",
    "        vec_err_eval = np.array([1,1])\n",
    "        for iter in range(Ndepth):\n",
    "            if np.random.rand()<0.5:\n",
    "                ## cnot\n",
    "                if np.random.rand()<0.5:\n",
    "                    ## control: 1\n",
    "                    vec[:,1]= np.mod(vec[:,1]+vec[:,0],2)\n",
    "                    vec[:,2]= np.mod(vec[:,3]+vec[:,2],2)\n",
    "                    control = 0\n",
    "                    target = 1\n",
    "                else:\n",
    "                    ## control: 2\n",
    "                    vec[:,0]= np.mod(vec[:,0]+vec[:,1],2)\n",
    "                    vec[:,3]= np.mod(vec[:,3]+vec[:,2],2)\n",
    "                    control = 1\n",
    "                    target = 0\n",
    "\n",
    "                inds = np.argwhere(np.random.rand(15)< p_flip)[:,0]\n",
    "                s_flip = np.zeros(15)\n",
    "                s_flip[inds]= 1\n",
    "                sz_c = (1+np.sum(s_flip[[1,3,4,5,8,13]])) %2\n",
    "                sx_c = np.sum(s_flip[[2,3,5,6]])%2\n",
    "                sz_t = np.sum(s_flip[[9,11,13]])%2\n",
    "                sx_t = np.sum(s_flip[[5,6,8,10,12,14]])%2\n",
    "                if sz_c > 0 :\n",
    "                    vec_err_eval = (-1)**vec[:,control] * vec_err_eval\n",
    "                if sx_c > 0 :\n",
    "                    vec_err_eval = (-1)**vec[:,control+Nq] * vec_err_eval\n",
    "                if sz_t > 0 :\n",
    "                    vec_err_eval = (-1)**vec[:,target] * vec_err_eval\n",
    "                if sx_t > 0 :\n",
    "                    vec_err_eval = (-1)**vec[:,target+Nq] * vec_err_eval\n",
    "\n",
    "            else:\n",
    "                for qubit in range(Nq):\n",
    "                    randgate = np.random.randint(0,3)\n",
    "                    if randgate==0:\n",
    "                        ## hadamard\n",
    "                        err1 = np.random.choice(elements, 1, p=prob_hadamard)\n",
    "                        if err1==1:\n",
    "                            ## Z\n",
    "                            vec_err_eval = (-1)**vec[:,qubit] * vec_err_eval\n",
    "                        elif err1==2:\n",
    "                            ## X\n",
    "                            vec_err_eval = (-1)**vec[:,qubit+Nq] * vec_err_eval\n",
    "                        elif err1==3:\n",
    "                            ## XZ\n",
    "                            vec_err_eval = (-1)**(vec[:,qubit]+vec[:,qubit+Nq]) * vec_err_eval\n",
    "\n",
    "                        # vec_err[:,qubit], vec_err[:,qubit+Nq] = vec_err[:,qubit+Nq], vec_err[:,qubit] \n",
    "\n",
    "                        vec[:,qubit], vec[:,qubit+Nq] = vec[:,qubit+Nq], vec[:,qubit] \n",
    "                    elif randgate==1:\n",
    "                        ## phase\n",
    "                        err1 = np.random.choice(elements, 1, p=prob_hadamard)\n",
    "                        if err1==1:\n",
    "                            ## Z\n",
    "                            vec_err_eval = (-1)**vec[:,qubit] * vec_err_eval\n",
    "                        elif err1==2:\n",
    "                            ## X\n",
    "                            vec_err_eval = (-1)**vec[:,qubit+Nq] * vec_err_eval\n",
    "                        elif err1==3:\n",
    "                            ## XZ\n",
    "                            vec_err_eval = (-1)**(vec[:,qubit]+vec[:,qubit+Nq]) * vec_err_eval\n",
    "\n",
    "                        # vec_err_eval = 1j*(1-(vec[:,qubit+Nq]* vec[:,qubit]))*vec_err_eval + (vec[:,qubit+Nq]* vec[:,qubit])*vec_err_eval\n",
    "                        vec_err_eval = (1-vec[:,qubit])*vec_err_eval + 1j*vec[:,qubit]*vec_err_eval\n",
    "\n",
    "                        # vec_eval = (1-(vec[:,qubit+Nq]* vec[:,qubit]))*vec_eval + 1j*(vec[:,qubit+Nq]* vec[:,qubit])*vec_eval\n",
    "                        vec_eval = (1-vec[:,qubit])*vec_eval + 1j*vec[:,qubit]*vec_eval\n",
    "                        vec[:,qubit+Nq] = np.mod(vec[:,qubit+Nq]+ vec[:,qubit],2)\n",
    "\n",
    "                    # else: # identity\n",
    "        # amp = (-1)**np.sum(vec[:,:Nq]*vec[:,Nq:],axis=0)\n",
    "        # Stot = np.sum(vec,axis=0)%2\n",
    "        # amp_prod = (-1)**np.sum(Stot[:Nq]*Stot[Nq:])\n",
    "        # err_val[i_r,i_Nd] = 1+ (vec_eval*vec_err_eval)@amp + np.prod(vec_eval)*np.prod(vec_err_eval)*amp_prod\n",
    "        err_val[i_r,i_Nd] = 1+ (np.conj(vec_eval)@vec_err_eval) + np.conj(np.prod(vec_eval))*np.prod(vec_err_eval)\n",
    "        # err_val[i_r,i_Nd] = 1+ (np.conj(vec_eval)@vec_eval) + np.conj(np.prod(vec_eval))*np.prod(vec_eval)\n",
    "    # err_avg[i_Nd] = np.mean(err_val)\n",
    "    # print(vec_eval,vec_err_eval)\n",
    "\n"
   ]
  },
  {
   "cell_type": "code",
   "execution_count": 175,
   "id": "be86d0fd-72e9-432d-8ce4-a76f20ab994f",
   "metadata": {},
   "outputs": [
    {
     "data": {
      "image/png": "[encoded data removed]",
      "text/plain": [
       "<Figure size 432x288 with 1 Axes>"
      ]
     },
     "metadata": {
      "needs_background": "light"
     },
     "output_type": "display_data"
    }
   ],
   "source": [
    "# plt.plot(Ndepth_list,np.real(err_val).T,\"o\")\n",
    "plt.plot(Ndepth_list,np.mean(np.abs(err_val)**0.5,axis=0).T/2,\"-\")\n",
    "# plt.plot(Ndepth_list,np.imag(err_val).T,\"o\")\n",
    "plt.xlabel(\"circuit depth\")\n",
    "plt.ylabel(\"state Fidelity\")\n",
    "plt.show()\n",
    "# print(err_val[:,1])"
   ]
  },
  {
   "cell_type": "markdown",
   "id": "e1d5da0d-7127-48f4-9247-4c692cd4b55d",
   "metadata": {},
   "source": [
    "## three qubits"
   ]
  },
  {
   "cell_type": "code",
   "execution_count": 40,
   "id": "33bc71c7-d3b1-4821-85e5-b96e60b513db",
   "metadata": {},
   "outputs": [
    {
     "name": "stdout",
     "output_type": "stream",
     "text": [
      "circ. depth =  0\n",
      "circ. depth =  1\n",
      "circ. depth =  2\n",
      "circ. depth =  3\n",
      "circ. depth =  4\n",
      "circ. depth =  5\n",
      "circ. depth =  6\n",
      "circ. depth =  7\n",
      "circ. depth =  8\n",
      "circ. depth =  9\n"
     ]
    }
   ],
   "source": [
    "p_flip = 1e-9\n",
    "\n",
    "## hadmard error rates\n",
    "p00 = (1-p_flip)**4 + 2*p_flip**3 * (1-p_flip) + p_flip**2 * (1-p_flip)**2 \n",
    "p01 = 2*p_flip * (1-p_flip)**3 + p_flip**2 * (1-p_flip)**2 + p_flip**4\n",
    "p10 = p_flip * (1-p_flip)**3 + 2* p_flip**2 * (1-p_flip)**2 + p_flip**3 * (1-p_flip)\n",
    "p11 = p_flip * (1-p_flip)**3 + 2* p_flip**2 * (1-p_flip)**2 + p_flip**3 * (1-p_flip)\n",
    "elements = [0,1,2,3]\n",
    "prob_hadamard = [p00,p01,p10,p11]\n",
    "\n",
    "Nq = 2\n",
    "Ndepth_list = np.arange(0,10,1)\n",
    "Nrep = 1000\n",
    "err_val = np.zeros((len(Ndepth_list),Nrep),dtype=np.complex64)\n",
    "err_avg = np.zeros(len(Ndepth_list),dtype=np.complex64)\n",
    "for i_Nd, Ndepth in enumerate(Ndepth_list): \n",
    "    print(\"circ. depth = \", Ndepth)\n",
    "    for i_r in range(Nrep):\n",
    "        vec = np.concatenate((np.zeros((Nq,Nq)),np.eye(Nq)),axis=1) ##  [ X1 X2 X3|Z1 Z2 Z3]\n",
    "        vec_eval = np.ones(Nq)\n",
    "        vec_err_eval = np.ones(Nq)\n",
    "        \n",
    "        for iter in range(Ndepth):\n",
    "            # q_remaining = list(set(np.arange(Nq))-set([target,control]))\n",
    "            for qubit in range(Nq):\n",
    "                randgate = np.random.randint(0,3)\n",
    "                if randgate==0:\n",
    "                    ## hadamard\n",
    "                    err1 = np.random.choice(elements, 1, p=prob_hadamard)\n",
    "                    if err1==1:\n",
    "                        ## Z\n",
    "                        vec_err_eval = (-1)**vec[:,qubit] * vec_err_eval\n",
    "                    elif err1==2:\n",
    "                        ## X\n",
    "                        vec_err_eval = (-1)**vec[:,qubit+Nq] * vec_err_eval\n",
    "                    elif err1==3:\n",
    "                        ## XZ\n",
    "                        vec_err_eval = (-1)**(vec[:,qubit]+vec[:,qubit+Nq]) * vec_err_eval\n",
    "\n",
    "                    vec[:,qubit], vec[:,qubit+Nq] = vec[:,qubit+Nq], vec[:,qubit] \n",
    "                elif randgate==1:\n",
    "                    ## phase\n",
    "                    err1 = np.random.choice(elements, 1, p=prob_hadamard)\n",
    "                    if err1==1:\n",
    "                        ## Z\n",
    "                        vec_err_eval = (-1)**vec[:,qubit] * vec_err_eval\n",
    "                    elif err1==2:\n",
    "                        ## X\n",
    "                        vec_err_eval = (-1)**vec[:,qubit+Nq] * vec_err_eval\n",
    "                    elif err1==3:\n",
    "                        ## XZ\n",
    "                        vec_err_eval = (-1)**(vec[:,qubit]+vec[:,qubit+Nq]) * vec_err_eval\n",
    "\n",
    "                    vec_err_eval = (1-vec[:,qubit])*vec_err_eval + 1j*vec[:,qubit]*vec_err_eval\n",
    "\n",
    "                    vec_eval = (1-vec[:,qubit])*vec_eval + 1j*vec[:,qubit]*vec_eval\n",
    "                    vec[:,qubit+Nq] = np.mod(vec[:,qubit+Nq]+ vec[:,qubit],2)\n",
    "                    \n",
    "            q_new = np.random.permutation(Nq)\n",
    "            for pair in range(int(Nq/2)):\n",
    "                control = q_new[2*pair]\n",
    "                target = q_new[2*pair+1]            \n",
    "\n",
    "                inds = np.argwhere(np.random.rand(15)< p_flip)[:,0]\n",
    "                s_flip = np.zeros(15)\n",
    "                s_flip[inds]= 1\n",
    "                sz_c = (1+np.sum(s_flip[[1,3,4,5,8,13]])) %2\n",
    "                sx_c = np.sum(s_flip[[2,3,5,6]])%2\n",
    "                sz_t = np.sum(s_flip[[9,11,13]])%2\n",
    "                sx_t = np.sum(s_flip[[5,6,8,10,12,14]])%2\n",
    "                if sz_c > 0 :\n",
    "                    vec_err_eval = (-1)**vec[:,control] * vec_err_eval\n",
    "                if sx_c > 0 :\n",
    "                    vec_err_eval = (-1)**vec[:,control+Nq] * vec_err_eval\n",
    "                if sz_t > 0 :\n",
    "                    vec_err_eval = (-1)**vec[:,target] * vec_err_eval\n",
    "                if sx_t > 0 :\n",
    "                    vec_err_eval = (-1)**vec[:,target+Nq] * vec_err_eval\n",
    "                    \n",
    "                ## cnot\n",
    "                vec[:,target]= np.mod(vec[:,target]+vec[:,control],2)\n",
    "                vec[:,control+Nq]= np.mod(vec[:,target+Nq]+vec[:,control+Nq],2)\n",
    "\n",
    "                # else: # identity\n",
    "        err_val[i_Nd,i_r] = np.prod(1+ np.conj(vec_eval)*vec_err_eval)/2**Nq \n",
    "\n"
   ]
  },
  {
   "cell_type": "code",
   "execution_count": 37,
   "id": "ef72b21f-7d43-4929-b692-8fe0ce5d6339",
   "metadata": {},
   "outputs": [
    {
     "data": {
      "text/plain": [
       "array([[1., 1., 0., 0., 1., 1., 0., 1.],\n",
       "       [1., 0., 0., 1., 0., 0., 0., 0.],\n",
       "       [1., 1., 1., 0., 1., 0., 1., 0.],\n",
       "       [1., 0., 0., 0., 0., 0., 0., 1.]])"
      ]
     },
     "execution_count": 37,
     "metadata": {},
     "output_type": "execute_result"
    }
   ],
   "source": [
    "vec"
   ]
  },
  {
   "cell_type": "code",
   "execution_count": 41,
   "id": "a09b9061-669e-4f80-805a-4d70c38447ed",
   "metadata": {},
   "outputs": [
    {
     "data": {
      "image/png": "[encoded data removed]",
      "text/plain": [
       "<Figure size 432x288 with 1 Axes>"
      ]
     },
     "metadata": {
      "needs_background": "light"
     },
     "output_type": "display_data"
    }
   ],
   "source": [
    "# plt.plot(Ndepth_list,np.real(err_val),\"o\")\n",
    "plt.plot(Ndepth_list,np.mean(np.abs(err_val)**0.5,axis=1),\"o-\")\n",
    "# plt.plot(Ndepth_list,np.imag(err_val),\"o\")\n",
    "plt.xlabel(\"circuit depth\")\n",
    "plt.ylabel(\"state Fidelity\")\n",
    "plt.show()\n",
    "# print(err_val[:,1])"
   ]
  },
  {
   "cell_type": "markdown",
   "id": "0c5775c1-c013-408b-8090-a9d729aa4c72",
   "metadata": {},
   "source": [
    "## qiskit"
   ]
  },
  {
   "cell_type": "code",
   "execution_count": 92,
   "id": "abd7fb17-6d8c-4492-b0e8-390a8353e1de",
   "metadata": {},
   "outputs": [],
   "source": [
    "# Import general libraries (needed for functions)\n",
    "import numpy as np\n",
    "import matplotlib.pyplot as plt\n",
    "from IPython import display\n",
    "\n",
    "# Import the RB Functions\n",
    "import qiskit.ignis.verification.randomized_benchmarking as rb\n",
    "\n",
    "# Import Qiskit classes \n",
    "import qiskit\n",
    "from qiskit import assemble, transpile\n",
    "from qiskit.providers.aer.noise import NoiseModel\n",
    "from qiskit.providers.aer.noise.errors.standard_errors import depolarizing_error, thermal_relaxation_error\n",
    "\n",
    "# Generate RB circuits (2Q RB)\n",
    "\n",
    "# number of qubits\n",
    "nQ = 3 \n",
    "rb_opts = {}\n",
    "#Number of Cliffords in the sequence\n",
    "rb_opts['length_vector'] = [1, 10, 20, 50, 75, 100, 125, 150, 175, 200]\n",
    "# Number of seeds (random sequences)\n",
    "rb_opts['nseeds'] = 5\n",
    "# Default pattern\n",
    "rb_opts['rb_pattern'] = [[0, 1, 2]]\n",
    "\n",
    "rb_circs, xdata = rb.randomized_benchmarking_seq(**rb_opts)"
   ]
  },
  {
   "cell_type": "code",
   "execution_count": 93,
   "id": "fc0d43fd-a8bb-4a64-8f72-16b3fb1e9382",
   "metadata": {},
   "outputs": [
    {
     "data": {
      "text/html": [
       "<pre style=\"word-wrap: normal;white-space: pre;background: #fff0;line-height: 1.1;font-family: &quot;Courier New&quot;,Courier,monospace\">      ┌─────┐ ┌───┐      ┌───┐┌───┐     ┌─────┐┌───┐                ░  ┌───┐ »\n",
       "qr_0: ┤ Sdg ├─┤ H ├───■──┤ H ├┤ S ├──■──┤ Sdg ├┤ H ├────────────────░──┤ H ├─»\n",
       "      └┬───┬┘ ├───┤ ┌─┴─┐└───┘└───┘  │  └─────┘└───┘     ┌───┐┌───┐ ░ ┌┴───┴┐»\n",
       "qr_1: ─┤ Z ├──┤ H ├─┤ X ├────────────┼────────────────■──┤ H ├┤ S ├─░─┤ Sdg ├»\n",
       "       ├───┤ ┌┴───┴┐├───┤          ┌─┴─┐ ┌───┐ ┌───┐┌─┴─┐└───┘└───┘ ░ └─────┘»\n",
       "qr_2: ─┤ X ├─┤ Sdg ├┤ H ├──────────┤ X ├─┤ H ├─┤ S ├┤ X ├───────────░────────»\n",
       "       └───┘ └─────┘└───┘          └───┘ └───┘ └───┘└───┘           ░        »\n",
       "cr: 3/═══════════════════════════════════════════════════════════════════════»\n",
       "                                                                             »\n",
       "«      ┌───┐                      ┌─────┐┌───┐     ┌───┐┌───┐┌─┐   \n",
       "«qr_0: ┤ S ├───────────────────■──┤ Sdg ├┤ H ├──■──┤ H ├┤ S ├┤M├───\n",
       "«      ├───┤                   │  └─────┘└───┘┌─┴─┐├───┤├───┤└╥┘┌─┐\n",
       "«qr_1: ┤ H ├──■────────────────┼──────────────┤ X ├┤ H ├┤ Z ├─╫─┤M├\n",
       "«      └───┘┌─┴─┐┌─────┐┌───┐┌─┴─┐ ┌───┐ ┌───┐├───┤└┬─┬┘└───┘ ║ └╥┘\n",
       "«qr_2: ─────┤ X ├┤ Sdg ├┤ H ├┤ X ├─┤ H ├─┤ S ├┤ X ├─┤M├───────╫──╫─\n",
       "«           └───┘└─────┘└───┘└───┘ └───┘ └───┘└───┘ └╥┘       ║  ║ \n",
       "«cr: 3/══════════════════════════════════════════════╩════════╩══╩═\n",
       "«                                                    2        0  1 </pre>"
      ],
      "text/plain": [
       "      ┌─────┐ ┌───┐      ┌───┐┌───┐     ┌─────┐┌───┐                ░  ┌───┐ »\n",
       "qr_0: ┤ Sdg ├─┤ H ├───■──┤ H ├┤ S ├──■──┤ Sdg ├┤ H ├────────────────░──┤ H ├─»\n",
       "      └┬───┬┘ ├───┤ ┌─┴─┐└───┘└───┘  │  └─────┘└───┘     ┌───┐┌───┐ ░ ┌┴───┴┐»\n",
       "qr_1: ─┤ Z ├──┤ H ├─┤ X ├────────────┼────────────────■──┤ H ├┤ S ├─░─┤ Sdg ├»\n",
       "       ├───┤ ┌┴───┴┐├───┤          ┌─┴─┐ ┌───┐ ┌───┐┌─┴─┐└───┘└───┘ ░ └─────┘»\n",
       "qr_2: ─┤ X ├─┤ Sdg ├┤ H ├──────────┤ X ├─┤ H ├─┤ S ├┤ X ├───────────░────────»\n",
       "       └───┘ └─────┘└───┘          └───┘ └───┘ └───┘└───┘           ░        »\n",
       "cr: 3/═══════════════════════════════════════════════════════════════════════»\n",
       "                                                                             »\n",
       "«      ┌───┐                      ┌─────┐┌───┐     ┌───┐┌───┐┌─┐   \n",
       "«qr_0: ┤ S ├───────────────────■──┤ Sdg ├┤ H ├──■──┤ H ├┤ S ├┤M├───\n",
       "«      ├───┤                   │  └─────┘└───┘┌─┴─┐├───┤├───┤└╥┘┌─┐\n",
       "«qr_1: ┤ H ├──■────────────────┼──────────────┤ X ├┤ H ├┤ Z ├─╫─┤M├\n",
       "«      └───┘┌─┴─┐┌─────┐┌───┐┌─┴─┐ ┌───┐ ┌───┐├───┤└┬─┬┘└───┘ ║ └╥┘\n",
       "«qr_2: ─────┤ X ├┤ Sdg ├┤ H ├┤ X ├─┤ H ├─┤ S ├┤ X ├─┤M├───────╫──╫─\n",
       "«           └───┘└─────┘└───┘└───┘ └───┘ └───┘└───┘ └╥┘       ║  ║ \n",
       "«cr: 3/══════════════════════════════════════════════╩════════╩══╩═\n",
       "«                                                    2        0  1 "
      ]
     },
     "execution_count": 93,
     "metadata": {},
     "output_type": "execute_result"
    }
   ],
   "source": [
    "rb_circs[0][0].draw()"
   ]
  },
  {
   "cell_type": "code",
   "execution_count": 94,
   "id": "1c515e92-4966-46d6-95d2-e922463f5a4d",
   "metadata": {},
   "outputs": [],
   "source": [
    "# Create a new circuit without the measurement\n",
    "qregs = rb_circs[0][-1].qregs\n",
    "cregs = rb_circs[0][-1].cregs\n",
    "qc = qiskit.QuantumCircuit(*qregs, *cregs)\n",
    "for i in rb_circs[0][-1][0:-nQ]:\n",
    "    qc.data.append(i)"
   ]
  },
  {
   "cell_type": "code",
   "execution_count": 95,
   "id": "af145590-7958-4bd2-a460-ec5a39e5bdb0",
   "metadata": {},
   "outputs": [
    {
     "data": {
      "text/latex": [
       "$$\n",
       "\\text{Unitary} = \n",
       "\\begin{bmatrix}\n",
       "\\tfrac{1}{\\sqrt{2}}(-1 + i) & 0 & 0 & 0 & 0 & 0 & 0 & 0  \\\\\n",
       " 0 & \\tfrac{1}{\\sqrt{2}}(-1 + i) & 0 & 0 & 0 & 0 & 0 & 0  \\\\\n",
       " 0 & 0 & \\tfrac{1}{\\sqrt{2}}(-1 + i) & 0 & 0 & 0 & 0 & 0  \\\\\n",
       " 0 & 0 & 0 & \\tfrac{1}{\\sqrt{2}}(-1 + i) & 0 & 0 & 0 & 0  \\\\\n",
       " 0 & 0 & 0 & 0 & \\tfrac{1}{\\sqrt{2}}(-1 + i) & 0 & 0 & 0  \\\\\n",
       " 0 & 0 & 0 & 0 & 0 & \\tfrac{1}{\\sqrt{2}}(-1 + i) & 0 & 0  \\\\\n",
       " 0 & 0 & 0 & 0 & 0 & 0 & \\tfrac{1}{\\sqrt{2}}(-1 + i) & 0  \\\\\n",
       " 0 & 0 & 0 & 0 & 0 & 0 & 0 & \\tfrac{1}{\\sqrt{2}}(-1 + i)  \\\\\n",
       " \\end{bmatrix}\n",
       "$$"
      ],
      "text/plain": [
       "<IPython.core.display.Latex object>"
      ]
     },
     "execution_count": 95,
     "metadata": {},
     "output_type": "execute_result"
    }
   ],
   "source": [
    "# The Unitary is an identity (with a global phase)\n",
    "sim = qiskit.Aer.get_backend('aer_simulator')\n",
    "basis_gates = ['u1','u2','u3','cx'] # use U,CX for now\n",
    "qc.save_unitary()\n",
    "unitary = sim.run(qc).result().get_unitary()\n",
    "from qiskit.visualization import array_to_latex\n",
    "array_to_latex(unitary, prefix=\"\\\\text{Unitary} = \")"
   ]
  },
  {
   "cell_type": "code",
   "execution_count": 96,
   "id": "afb6a8b3-5b38-442f-8174-c65107f6390f",
   "metadata": {},
   "outputs": [
    {
     "name": "stdout",
     "output_type": "stream",
     "text": [
      "[('II', 0.9870826818085957), ('ZI', 0.001983070826265748), ('XI', 0.000994018964041972), ('YI', 0.000994018964041972), ('IZ', 0.001978122592860813), ('ZZ', 0.000992036896181804), ('XZ', 2.985033958027992e-06), ('YZ', 2.985033958027992e-06), ('IX', 0.002968168463104517), ('ZX', 0.00099599904586618), ('XX', 0.000994018964041972), ('YX', 0.000994018964041972), ('IY', 6.939259343035e-06), ('ZY', 4.965115782235864e-06), ('XY', 2.985033958027992e-06), ('YY', 2.985033958027992e-06)]\n"
     ]
    }
   ],
   "source": [
    "# Run on a noisy simulator\n",
    "noise_model = NoiseModel()\n",
    "\n",
    "# Depolarizing error on the gates u2, u3 and cx (assuming the u1 is virtual-Z gate and no error)\n",
    "# p1Q = 0.02\n",
    "# p2Q = 0.01\n",
    "\n",
    "p_flip = 0.001\n",
    "## hadmard error rates\n",
    "p00 = (1-p_flip)**4 + 2*p_flip**3 * (1-p_flip) + p_flip**2 * (1-p_flip)**2 \n",
    "p01 = 2*p_flip * (1-p_flip)**3 + p_flip**2 * (1-p_flip)**2 + p_flip**4\n",
    "p10 = p_flip * (1-p_flip)**3 + 2* p_flip**2 * (1-p_flip)**2 + p_flip**3 * (1-p_flip)\n",
    "p11 = p_flip * (1-p_flip)**3 + 2* p_flip**2 * (1-p_flip)**2 + p_flip**3 * (1-p_flip)\n",
    "bit_flip = pauli_error([('I', p00), ('Z', p01), ('X', p10), ('Y', p11)])\n",
    "\n",
    "noise_model.add_all_qubit_quantum_error(bit_flip, 'u2')\n",
    "noise_model.add_all_qubit_quantum_error(bit_flip, 'u3')\n",
    "\n",
    "\n",
    "def Hilbertspace_Zr(N,r):\n",
    "    states=np.zeros((r**N,N),dtype=int)\n",
    "    if N>0:\n",
    "        for i_1 in range(r**N):\n",
    "            num_str=np.base_repr(i_1,base=r)[::-1]\n",
    "            for i_2 in range(len(num_str)):\n",
    "                states[i_1,i_2]=int(num_str[i_2])\n",
    "    else:\n",
    "        states=[[0]]\n",
    "        \n",
    "    return states\n",
    "\n",
    "Nq = 14\n",
    "vec = Hilbertspace_Zr(Nq,2)\n",
    "err_vec = np.zeros((16,Nq+1),dtype=int)\n",
    "for i in range(2**Nq):\n",
    "    s_flip=vec[i,:]\n",
    "    sz_c = np.sum(vec[i,[0,2,3,4,7,12]])\n",
    "    sx_c = np.sum(vec[i,[1,2,4,5]])\n",
    "    sz_t = np.sum(vec[i,[8,10,12]])\n",
    "    sx_t = np.sum(vec[i,[4,5,7,9,11,13]])\n",
    "    p_exp = np.sum(vec[i,:])\n",
    "    \n",
    "    i_e = np.array([sz_c%2,sx_c%2,sz_t%2,sx_t%2])@ (2**np.arange(4))\n",
    "    err_vec[i_e,p_exp] += 1\n",
    "    \n",
    "p_vec = p_flip**np.arange(15)*(1-p_flip)**np.arange(14,-1,-1)\n",
    "err_prob = err_vec @ p_vec\n",
    "pauli_vec = Hilbertspace_Zr(4,2)\n",
    "pauli_combined = []\n",
    "for i in range(16):\n",
    "    p_st = ''\n",
    "    p1 = pauli_vec[i,:2]@ np.array([1,2])\n",
    "    if  p1 == 0:\n",
    "        p_st += 'I'\n",
    "    elif  p1 == 1:\n",
    "        p_st += 'Z'\n",
    "    elif  p1 == 2:\n",
    "        p_st += 'X'\n",
    "    else:\n",
    "        p_st += 'Y'\n",
    "    p2 = pauli_vec[i,2:]@ np.array([1,2])\n",
    "    if  p2 == 0:\n",
    "        p_st += 'I'\n",
    "    elif  p2 == 1:\n",
    "        p_st += 'Z'\n",
    "    elif  p2 == 2:\n",
    "        p_st += 'X'\n",
    "    else:\n",
    "        p_st += 'Y'\n",
    "\n",
    "    pauli_combined.append((p_st,err_prob[i]))\n",
    "print(pauli_combined)\n",
    "two_bit_flip = pauli_error(pauli_combined)\n",
    "\n",
    "noise_model.add_all_qubit_quantum_error(two_bit_flip, 'cx')\n",
    "\n",
    "# noise_model.add_all_qubit_quantum_error(depolarizing_error(p1Q, 1), 'u2')\n",
    "# noise_model.add_all_qubit_quantum_error(depolarizing_error(2 * p1Q, 1), 'u3')\n",
    "# noise_model.add_all_qubit_quantum_error(depolarizing_error(p2Q, 2), 'cx')\n",
    "\n",
    "backend = qiskit.Aer.get_backend('aer_simulator')"
   ]
  },
  {
   "cell_type": "code",
   "execution_count": 97,
   "id": "e15f332d-5eec-43ee-a7a3-8fa7cc270301",
   "metadata": {},
   "outputs": [
    {
     "name": "stdout",
     "output_type": "stream",
     "text": [
      "Compiling seed 0\n",
      "Simulating seed 0\n",
      "After seed 0, alpha: 0.929959, EPC: 0.061286\n",
      "Compiling seed 1\n",
      "Simulating seed 1\n",
      "After seed 1, alpha: 0.932236, EPC: 0.059293\n",
      "Compiling seed 2\n",
      "Simulating seed 2\n",
      "After seed 2, alpha: 0.925412, EPC: 0.065265\n",
      "Compiling seed 3\n",
      "Simulating seed 3\n",
      "After seed 3, alpha: 0.926731, EPC: 0.064110\n",
      "Compiling seed 4\n",
      "Simulating seed 4\n",
      "After seed 4, alpha: 0.926376, EPC: 0.064421\n"
     ]
    }
   ],
   "source": [
    "# Create the RB fitter\n",
    "backend = qiskit.Aer.get_backend('aer_simulator')\n",
    "basis_gates = ['u1','u2','u3','cx'] \n",
    "shots = 200\n",
    "transpiled_circs_list = []\n",
    "rb_fit = rb.RBFitter(None, xdata, rb_opts['rb_pattern'])\n",
    "for rb_seed, rb_circ_seed in enumerate(rb_circs):\n",
    "    print(f'Compiling seed {rb_seed}')\n",
    "    new_rb_circ_seed = qiskit.compiler.transpile(rb_circ_seed, basis_gates=basis_gates)\n",
    "    transpiled_circs_list.append(new_rb_circ_seed)\n",
    "    print(f'Simulating seed {rb_seed}')\n",
    "    qobj = assemble(new_rb_circ_seed, shots=shots)\n",
    "    job = backend.run(qobj,\n",
    "                      noise_model=noise_model,\n",
    "                      max_parallel_experiments=0)\n",
    "    # Add data to the fitter\n",
    "    rb_fit.add_data(job.result())\n",
    "    print('After seed %d, alpha: %f, EPC: %f'%(rb_seed,rb_fit.fit[0]['params'][1], rb_fit.fit[0]['epc']))"
   ]
  },
  {
   "cell_type": "code",
   "execution_count": 89,
   "id": "4e446c80-b6b2-4378-ad26-0b5c999aa075",
   "metadata": {},
   "outputs": [
    {
     "data": {
      "image/png": "[encoded data removed]",
      "text/plain": [
       "<Figure size 576x432 with 1 Axes>"
      ]
     },
     "metadata": {
      "needs_background": "light"
     },
     "output_type": "display_data"
    }
   ],
   "source": [
    "plt.figure(figsize=(8, 6))\n",
    "ax = plt.subplot(1, 1, 1)\n",
    "\n",
    "# Plot the essence by calling plot_rb_data\n",
    "rb_fit.plot_rb_data(0, ax=ax, add_label=True, show_plt=False)\n",
    "    \n",
    "# Add title and label\n",
    "ax.set_title('%d Qubit RB'%(nQ), fontsize=18)\n",
    "\n",
    "plt.show()"
   ]
  },
  {
   "cell_type": "code",
   "execution_count": 98,
   "id": "65f39db5-8f50-4046-ae72-1c87360e115a",
   "metadata": {},
   "outputs": [
    {
     "data": {
      "image/png": "[encoded data removed]",
      "text/plain": [
       "<Figure size 576x432 with 1 Axes>"
      ]
     },
     "metadata": {
      "needs_background": "light"
     },
     "output_type": "display_data"
    }
   ],
   "source": [
    "plt.figure(figsize=(8, 6))\n",
    "ax = plt.subplot(1, 1, 1)\n",
    "\n",
    "# Plot the essence by calling plot_rb_data\n",
    "rb_fit.plot_rb_data(0, ax=ax, add_label=True, show_plt=False)\n",
    "    \n",
    "# Add title and label\n",
    "ax.set_title('%d Qubit RB'%(nQ), fontsize=18)\n",
    "\n",
    "plt.show()"
   ]
  },
  {
   "cell_type": "code",
   "execution_count": 14,
   "id": "c0fae2e1-8224-426b-a179-5baf5137fc04",
   "metadata": {},
   "outputs": [],
   "source": [
    "import numpy as np\n",
    "from qiskit import QuantumCircuit, transpile\n",
    "from qiskit.quantum_info import Kraus, SuperOp\n",
    "from qiskit.providers.aer import AerSimulator\n",
    "from qiskit.tools.visualization import plot_histogram\n",
    "\n",
    "# Import from Qiskit Aer noise module\n",
    "from qiskit.providers.aer.noise import NoiseModel\n",
    "from qiskit.providers.aer.noise import QuantumError, ReadoutError\n",
    "from qiskit.providers.aer.noise import pauli_error\n",
    "from qiskit.providers.aer.noise import depolarizing_error\n",
    "from qiskit.providers.aer.noise import thermal_relaxation_error"
   ]
  },
  {
   "cell_type": "code",
   "execution_count": 33,
   "id": "8ed8b6fd-1eb0-4fcf-9d20-0bd88a71282a",
   "metadata": {},
   "outputs": [
    {
     "name": "stdout",
     "output_type": "stream",
     "text": [
      "QuantumError on 2 qubits. Noise circuits:\n",
      "  P(0) = 0.32199999999999995, Circuit = \n",
      "     ┌────────────┐\n",
      "q_0: ┤0           ├\n",
      "     │  Pauli(IX) │\n",
      "q_1: ┤1           ├\n",
      "     └────────────┘\n",
      "  P(1) = 0.258, Circuit = \n",
      "     ┌────────────┐\n",
      "q_0: ┤0           ├\n",
      "     │  Pauli(XZ) │\n",
      "q_1: ┤1           ├\n",
      "     └────────────┘\n",
      "  P(2) = 0.21000000000000002, Circuit = \n",
      "     ┌────────────┐\n",
      "q_0: ┤0           ├\n",
      "     │  Pauli(XZ) │\n",
      "q_1: ┤1           ├\n",
      "     └────────────┘\n",
      "  P(3) = 0.21000000000000002, Circuit = \n",
      "     ┌────────────┐\n",
      "q_0: ┤0           ├\n",
      "     │  Pauli(YY) │\n",
      "q_1: ┤1           ├\n",
      "     └────────────┘\n"
     ]
    }
   ],
   "source": [
    "# Construct a 1-qubit bit-flip and phase-flip errors\n",
    "p_flip = 0.3\n",
    "## hadmard error rates\n",
    "p00 = (1-p_flip)**4 + 2*p_flip**3 * (1-p_flip) + p_flip**2 * (1-p_flip)**2 \n",
    "p01 = 2*p_flip * (1-p_flip)**3 + p_flip**2 * (1-p_flip)**2 + p_flip**4\n",
    "p10 = p_flip * (1-p_flip)**3 + 2* p_flip**2 * (1-p_flip)**2 + p_flip**3 * (1-p_flip)\n",
    "p11 = p_flip * (1-p_flip)**3 + 2* p_flip**2 * (1-p_flip)**2 + p_flip**3 * (1-p_flip)\n",
    "bit_flip = pauli_error([('I', p00), ('Z', p01), ('X', p10), ('Y', p11)])\n",
    "\n",
    "# print(bit_flip)\n",
    "\n",
    "two_bit_flip = pauli_error([('I', p00), ('XZ', p01), ('XZ', p10), ('YY', p11)])\n",
    "print(two_bit_flip)\n",
    "\n",
    "\n",
    "\n"
   ]
  },
  {
   "cell_type": "code",
   "execution_count": 117,
   "id": "cc725932-f9bd-4378-975b-a8d4811a8232",
   "metadata": {},
   "outputs": [
    {
     "data": {
      "image/png": "[encoded data removed]",
      "text/plain": [
       "<Figure size 360x216 with 1 Axes>"
      ]
     },
     "metadata": {
      "needs_background": "light"
     },
     "output_type": "display_data"
    }
   ],
   "source": [
    "def Hilbertspace_Zr(N,r):\n",
    "    states=np.zeros((r**N,N),dtype=int)\n",
    "    if N>0:\n",
    "        for i_1 in range(r**N):\n",
    "            num_str=np.base_repr(i_1,base=r)[::-1]\n",
    "            for i_2 in range(len(num_str)):\n",
    "                states[i_1,i_2]=int(num_str[i_2])\n",
    "    else:\n",
    "        states=[[0]]\n",
    "        \n",
    "    return states\n",
    "\n",
    "Nq = 14\n",
    "vec = Hilbertspace_Zr(Nq,2)\n",
    "\n",
    "z1 = np.zeros((2,Nq+1),dtype=int)\n",
    "x1 = np.zeros((2,Nq+1),dtype=int)\n",
    "z2 = np.zeros((2,Nq+1),dtype=int)\n",
    "x2 = np.zeros((2,Nq+1),dtype=int)\n",
    "err_vec = np.zeros((16,Nq+1),dtype=int)\n",
    "for i in range(2**Nq):\n",
    "    s_flip=vec[i,:]\n",
    "    sz_c = np.sum(vec[i,[0,2,3,4,7,8,10]])\n",
    "    sx_c = np.sum(vec[i,[1,2,4,5]])\n",
    "    sz_t = np.sum(vec[i,[8,10,12]])\n",
    "    sx_t = np.sum(vec[i,[1,2,7,9,11,13]])\n",
    "    p_exp = np.sum(vec[i,:])\n",
    "    \n",
    "    i_e = np.array([sz_c%2,sx_c%2,sz_t%2,sx_t%2])@ (2**np.arange(4))\n",
    "    err_vec[i_e,p_exp] += 1\n",
    "    # z1[(sz_c+1)%2,p_exp] += 1\n",
    "    # x1[sx_c%2,p_exp] += 1\n",
    "    # z2[sz_t%2 ,p_exp] += 1\n",
    "    # x2[sx_t%2,p_exp] += 1\n",
    "    \n",
    "# print(x1[1,:])\n",
    "# print(z1[1,:])\n",
    "# print(x2[1,:])\n",
    "# print(z2[1,:])\n",
    "\n",
    "p_list = np.linspace(0,1/3)\n",
    "err_prob = np.zeros((16,len(p_list)))\n",
    "for i_p, p in enumerate(p_list):\n",
    "    p_vec = p**np.arange(15)*(1-p)**np.arange(14,-1,-1)\n",
    "    err_prob[:,i_p] = err_vec @ p_vec\n",
    "    \n",
    "plt.figure(figsize=(5,3))\n",
    "for i_e in range(16):\n",
    "    plt.plot(3/2*p_list,err_prob[i_e,:],label=\"%d\" % i_e)\n",
    "# plt.plot(p_list,np.sum(err_prob,axis=0))\n",
    "plt.plot(3/2*p_list,p_list*0+1/16,\"k--\")\n",
    "plt.ylabel(\"Pauli error prob\")\n",
    "plt.xlabel(\"p, measurement error prob\")\n",
    "plt.tight_layout()\n",
    "plt.savefig(\"figs/err_prob_cnot.pdf\")\n",
    "# plt.legend()\n",
    "plt.show()"
   ]
  },
  {
   "cell_type": "code",
   "execution_count": 110,
   "id": "697cb626-0007-4e02-82c1-d8c6db59a2f6",
   "metadata": {},
   "outputs": [
    {
     "data": {
      "image/png": "[encoded data removed]",
      "text/plain": [
       "<Figure size 432x288 with 1 Axes>"
      ]
     },
     "metadata": {
      "needs_background": "light"
     },
     "output_type": "display_data"
    }
   ],
   "source": [
    "### algebra check for hadamard\n",
    "\n",
    "Nq = 4\n",
    "vec = Hilbertspace_Zr(Nq,2)\n",
    "\n",
    "z1 = np.zeros((2,Nq+1),dtype=int)\n",
    "x1 = np.zeros((2,Nq+1),dtype=int)\n",
    "z2 = np.zeros((2,Nq+1),dtype=int)\n",
    "x2 = np.zeros((2,Nq+1),dtype=int)\n",
    "err_vec = np.zeros((4,Nq+1),dtype=int)\n",
    "for i in range(2**Nq):\n",
    "    s_flip=vec[i,:]\n",
    "    sz = np.sum(vec[i,[0,2,3]])\n",
    "    sx = np.sum(vec[i,[1,2]])\n",
    "    p_exp = np.sum(vec[i,:])\n",
    "    \n",
    "    i_e = np.array([sz%2,sx%2])@ (2**np.arange(2))\n",
    "    err_vec[i_e,p_exp] += 1\n",
    "   \n",
    "p_list = np.linspace(0,0.5)\n",
    "err_prob = np.zeros((4,len(p_list)))\n",
    "err_prob_ex = np.zeros((4,len(p_list)))\n",
    "for i_p, p in enumerate(p_list):\n",
    "    p_vec = p**np.arange(5)*(1-p)**np.arange(4,-1,-1)\n",
    "    err_prob[:,i_p] = err_vec @ p_vec\n",
    "    \n",
    "    p_flip = p\n",
    "    err_prob_ex[0,i_p] = (1-p_flip)**4 + 2*p_flip**3 * (1-p_flip) + p_flip**2 * (1-p_flip)**2 \n",
    "    err_prob_ex[1,i_p] = 2*p_flip * (1-p_flip)**3 + p_flip**2 * (1-p_flip)**2 + p_flip**4\n",
    "    err_prob_ex[2,i_p] = p_flip * (1-p_flip)**3 + 2* p_flip**2 * (1-p_flip)**2 + p_flip**3 * (1-p_flip)\n",
    "    err_prob_ex[3,i_p] = p_flip * (1-p_flip)**3 + 2* p_flip**2 * (1-p_flip)**2 + p_flip**3 * (1-p_flip)\n",
    "\n",
    "\n",
    "plt.figure()\n",
    "for i_e in [2,3]:\n",
    "    plt.plot(p_list,err_prob[i_e,:],label=\"%d\" % i_e)\n",
    "    plt.plot(p_list,err_prob_ex[i_e,:],\"k--\")\n",
    "\n",
    "plt.plot(p_list,np.sum(err_prob,axis=0))\n",
    "# plt.plot(p_list,p_list*0+1/4,\"k--\")\n",
    "plt.ylabel(\"Pauli error prob\")\n",
    "plt.xlabel(\"measurement error prob\")\n",
    "# plt.legend()\n",
    "plt.show()"
   ]
  },
  {
   "cell_type": "code",
   "execution_count": 68,
   "id": "89dbe4d8-d082-424d-8cba-5f7063ddd06a",
   "metadata": {},
   "outputs": [
    {
     "data": {
      "text/plain": [
       "array([0, 0, 0, 0, 0, 1, 0, 0, 0, 0, 0, 0, 0, 0, 0, 0, 0])"
      ]
     },
     "execution_count": 68,
     "metadata": {},
     "output_type": "execute_result"
    }
   ],
   "source": [
    "\n",
    "def Hilbertspace_Zr(N,r):\n",
    "    states=np.zeros((r**N,N),dtype=int)\n",
    "    if N>0:\n",
    "        for i_1 in range(r**N):\n",
    "            num_str=np.base_repr(i_1,base=r)[::-1]\n",
    "            for i_2 in range(len(num_str)):\n",
    "                states[i_1,i_2]=int(num_str[i_2])\n",
    "    else:\n",
    "        states=[[0]]\n",
    "        \n",
    "    return states\n",
    "\n",
    "Nq = 14\n",
    "vec = Hilbertspace_Zr(Nq,2)\n",
    "err_vec = np.zeros((16,Nq+1),dtype=int)\n",
    "for i in range(2**Nq):\n",
    "    s_flip=vec[i,:]\n",
    "    sz_c = np.sum(vec[i,[0,2,3,4,7,12]])\n",
    "    sx_c = np.sum(vec[i,[1,2,4,5]])\n",
    "    sz_t = np.sum(vec[i,[8,10,12]])\n",
    "    sx_t = np.sum(vec[i,[4,5,7,9,11,13]])\n",
    "    p_exp = np.sum(vec[i,:])\n",
    "    \n",
    "    i_e = np.array([sz_c%2,sx_c%2,sz_t%2,sx_t%2])@ (2**np.arange(4))\n",
    "    err_vec[i_e,p_exp] += 1\n",
    "p_vec = p_flip**np.arange(15)*(1-p_flip)**np.arange(14,-1,-1)\n",
    "err_prob = err_vec @ p_vec\n",
    "pauli_vec = Hilbertspace_Zr(4,2)\n",
    "pauli_combined = []\n",
    "for i in range(16):\n",
    "    p_st = ''\n",
    "    p1 = pauli_vec[i,:2]@ np.array([1,2])\n",
    "    if  p1 == 0:\n",
    "        p_st += 'I'\n",
    "    elif  p1 == 1:\n",
    "        p_st += 'Z'\n",
    "    elif  p1 == 2:\n",
    "        p_st += 'X'\n",
    "    else:\n",
    "        p_st += 'Y'\n",
    "    p2 = pauli_vec[i,2:]@ np.array([1,2])\n",
    "    if  p2 == 0:\n",
    "        p_st += 'I'\n",
    "    elif  p2 == 1:\n",
    "        p_st += 'Z'\n",
    "    elif  p2 == 2:\n",
    "        p_st += 'X'\n",
    "    else:\n",
    "        p_st += 'Y'\n",
    "\n",
    "    pauli_combined.append((p_st,err_prob[i]))\n",
    "print(pauli_combined)"
   ]
  },
  {
   "cell_type": "code",
   "execution_count": null,
   "id": "cfa5299b-1c51-4ea5-bcf3-cc84f4158598",
   "metadata": {},
   "outputs": [],
   "source": [
    "\n",
    "p =0.3\n",
    "inds=np.argwhere(np.random.rand(4)<2*p/3)[:,0]\n",
    "s_flip = np.zeros(4)\n",
    "s_flip[inds] = 1\n",
    "sx = (s_flip[1]+ s_flip[2]) % 2\n",
    "sz = (s_flip[0]+ s_flip[2]+ s_flip[3]) % 2\n",
    "\n",
    "α = 0.3\n",
    "β = (1-np.abs(α)**2)**0.5\n",
    "\n",
    "# output_vec = np.zeros(2,dtype=np.complex64)\n",
    "if sx==0 and sz==0:\n",
    "    inn_prod = 1\n",
    "elif sx==0 and sz==1:\n",
    "    inn_prod = np.abs(α)**2 -np.abs(β)**2\n",
    "elif sx==1 and sz==0:\n",
    "    inn_prod = 2*np.real(np.conj(α)*β)\n",
    "    # output_vec = [β, α]\n",
    "else:\n",
    "    inn_prod = 2*np.imag(np.conj(α)*β)\n",
    "    # output_vec = [β, -α]\n",
    "# inn_prod= []@outputvec\n",
    "\n",
    "\n",
    "    \n",
    "\n",
    "\n",
    "\n"
   ]
  }
 ],
 "metadata": {
  "kernelspec": {
   "display_name": "Python 3 (ipykernel)",
   "language": "python",
   "name": "python3"
  },
  "language_info": {
   "codemirror_mode": {
    "name": "ipython",
    "version": 3
   },
   "file_extension": ".py",
   "mimetype": "text/x-python",
   "name": "python",
   "nbconvert_exporter": "python",
   "pygments_lexer": "ipython3",
   "version": "3.9.12"
  }
 },
 "nbformat": 4,
 "nbformat_minor": 5
}
