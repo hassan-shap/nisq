{
 "cells": [
  {
   "cell_type": "code",
   "execution_count": 1,
   "id": "14fd5cd5-d16c-4232-8635-29f55908012b",
   "metadata": {},
   "outputs": [],
   "source": [
    "import numpy as np\n",
    "import matplotlib.pyplot as plt\n",
    "import random\n",
    "from math import pi, sqrt\n"
   ]
  },
  {
   "cell_type": "code",
   "execution_count": 87,
   "id": "99335580-72a9-4bfd-9cdf-e4f7dc56057a",
   "metadata": {},
   "outputs": [],
   "source": [
    "\n",
    "def cz_err_model(i_c):\n",
    "    v_x = np.zeros(2,dtype=int)\n",
    "    v_z = np.zeros(2,dtype=int)\n",
    "    if i_c == 1:\n",
    "        v_x[0] = 1\n",
    "    elif i_c == 2:\n",
    "        v_x[0] = 1\n",
    "        v_z[0] = 1\n",
    "    elif i_c == 3:\n",
    "        v_z[0] = 1\n",
    "    elif i_c == 4:\n",
    "        v_z[1] = 1\n",
    "    elif i_c == 5:\n",
    "        v_x[0] = 1\n",
    "        v_z[1] = 1\n",
    "    elif i_c == 6:\n",
    "        v_x[0] = 1\n",
    "        v_z = np.ones(2,dtype=int)\n",
    "    elif i_c == 7:\n",
    "        v_z = np.ones(2,dtype=int)\n",
    "    if i_c ==0:\n",
    "        prob = 1-14*p_c/15\n",
    "    elif 0 < i_c <= 4:\n",
    "        prob = 2*p_c/15\n",
    "    else:\n",
    "        prob = 0*2*p_c/15\n",
    "    return v_x, v_z, prob\n",
    "\n",
    "pc_list = np.linspace(0,0.03)\n",
    "p_tot = np.zeros((4,len(pc_list))) # I, X, Z, Y\n",
    "for i_p, p_c in enumerate(pc_list):\n",
    "    vec_x = np.zeros(5,dtype=int)\n",
    "    vec_z = np.zeros(5,dtype=int)\n",
    "    for i_1 in range(8):\n",
    "        vx, vz, p1 = cz_err_model(i_1)\n",
    "        vec_x[0:2] += vx\n",
    "        vec_z[0:2] += vz\n",
    "        for i_2 in range(8):\n",
    "            vx, vz, p2 = cz_err_model(i_2)\n",
    "            vec_x[1:3] += vx\n",
    "            vec_z[1:3] += vz\n",
    "            for i_3 in range(8):\n",
    "                vx, vz, p3 = cz_err_model(i_3)\n",
    "                vec_x[2:4] += vx\n",
    "                vec_z[2:4] += vz\n",
    "                for i_4 in range(8):\n",
    "                    vx, vz, p4 = cz_err_model(i_4)\n",
    "                    vec_x[3:5] += vx\n",
    "                    vec_z[3:5] += vz\n",
    "\n",
    "                    xcomp = (vec_z[0]+ vec_x[2] + vec_z[2] + vec_x[3] + vec_z[3] + vec_x[4])%2\n",
    "                    zcomp = (vec_x[1] + vec_z[1] + vec_x[2] + vec_z[2] + vec_z[4])%2\n",
    "\n",
    "                    p_tot[2*zcomp+xcomp,i_p] += p1*p2*p3*p4\n",
    "\n"
   ]
  },
  {
   "cell_type": "code",
   "execution_count": 89,
   "id": "9f05b79b-20e3-43b3-92e9-5d54c8564d9a",
   "metadata": {},
   "outputs": [
    {
     "data": {
      "image/png": "[encoded data removed]",
      "text/plain": [
       "<Figure size 432x288 with 1 Axes>"
      ]
     },
     "metadata": {
      "needs_background": "light"
     },
     "output_type": "display_data"
    }
   ],
   "source": [
    "# for i_l in range(1,4):\n",
    "#     plt.plot(pc_list,p_tot[i_l,:])\n",
    "plt.plot(pc_list,p_tot[1,:],\"x\",label=\"X\")\n",
    "plt.plot(pc_list,p_tot[2,:],label=\"Z\")\n",
    "plt.plot(pc_list,p_tot[3,:],\"-\",label=\"Y\")\n",
    "    \n",
    "# plt.plot(pc_list,np.sum(p_tot[0:,:],axis=0))\n",
    "# inFid = 2/3*np.sum(p_tot[1:,:]\n",
    "# plt.plot(pc_list,inFid,axis=0))\n",
    "plt.plot(pc_list,12/15*pc_list,\"k--\")\n",
    "plt.ylim(0,0.02)\n",
    "plt.xlim(0,0.02)\n",
    "plt.xlabel(r\"$p_{cz}$\")\n",
    "plt.ylabel(\"Fidelity\")\n",
    "plt.legend()\n",
    "plt.show()\n"
   ]
  },
  {
   "cell_type": "code",
   "execution_count": 60,
   "id": "00fca8cd-66d2-48bf-8ca7-2fee46329430",
   "metadata": {},
   "outputs": [
    {
     "data": {
      "text/plain": [
       "3.3777777777777778"
      ]
     },
     "execution_count": 60,
     "metadata": {},
     "output_type": "execute_result"
    }
   ],
   "source": [
    "1.6+ 8/3*2/3"
   ]
  },
  {
   "cell_type": "code",
   "execution_count": null,
   "id": "92e4378a-96fb-4221-a730-77c90ecfcc94",
   "metadata": {},
   "outputs": [],
   "source": []
  }
 ],
 "metadata": {
  "kernelspec": {
   "display_name": "Python 3 (ipykernel)",
   "language": "python",
   "name": "python3"
  },
  "language_info": {
   "codemirror_mode": {
    "name": "ipython",
    "version": 3
   },
   "file_extension": ".py",
   "mimetype": "text/x-python",
   "name": "python",
   "nbconvert_exporter": "python",
   "pygments_lexer": "ipython3",
   "version": "3.9.12"
  }
 },
 "nbformat": 4,
 "nbformat_minor": 5
}
