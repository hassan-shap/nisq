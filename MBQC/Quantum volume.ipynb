{
 "cells": [
  {
   "cell_type": "code",
   "execution_count": 1,
   "id": "bf5fff70",
   "metadata": {},
   "outputs": [],
   "source": [
    "from MBQC_basic_functions import*\n",
    "import time\n",
    "import qiskit\n",
    "import numpy as np\n",
    "import matplotlib.pyplot as plt\n",
    "from qiskit import QuantumCircuit,QuantumRegister,ClassicalRegister\n",
    "from qiskit.quantum_info.operators import Operator\n",
    "from qiskit.providers.aer.noise import NoiseModel\n",
    "from qiskit.providers.aer.noise.errors import pauli_error, depolarizing_error\n",
    "from qiskit import Aer\n"
   ]
  },
  {
   "cell_type": "code",
   "execution_count": 2,
   "id": "97cc209c",
   "metadata": {},
   "outputs": [],
   "source": [
    "def Hilbertspace_Zr(N,r):\n",
    "    states=np.zeros((r**N,N),dtype=int)\n",
    "    if N>0:\n",
    "        for i_1 in range(r**N):\n",
    "            num_str=np.base_repr(i_1,base=r)[::-1]\n",
    "            for i_2 in range(len(num_str)):\n",
    "                states[i_1,i_2]=int(num_str[i_2])\n",
    "    else:\n",
    "        states=[[0]]\n",
    "        \n",
    "    return states\n",
    "\n",
    "def CNOT_error(p):\n",
    "    p_flip = p*2/3\n",
    "    #output a error model for the CNOT gate (in the nearest neighbor setting)\n",
    "    Nq = 14\n",
    "    vec = Hilbertspace_Zr(Nq,2)\n",
    "    err_vec = np.zeros((16,Nq+1),dtype=int)\n",
    "    for i in range(2**Nq):\n",
    "        s_flip=vec[i,:]\n",
    "        sz_c = np.sum(vec[i,[0,2,3,4,7,8,10]])\n",
    "        sx_c = np.sum(vec[i,[1,2,4,5]])\n",
    "        sz_t = np.sum(vec[i,[8,10,12]])\n",
    "        sx_t = np.sum(vec[i,[1,2,7,9,11,13]])\n",
    "        p_exp = np.sum(vec[i,:])\n",
    "        \n",
    "        i_e = np.array([sz_c%2,sx_c%2,sz_t%2,sx_t%2])@ (2**np.arange(4))\n",
    "        err_vec[i_e,p_exp] += 1\n",
    "        \n",
    "    p_vec = p_flip**np.arange(15)*(1-p_flip)**np.arange(14,-1,-1)\n",
    "    err_prob = err_vec @ p_vec\n",
    "    pauli_vec = Hilbertspace_Zr(4,2)\n",
    "    pauli_combined = []\n",
    "    for i in range(16):\n",
    "        p_st = ''\n",
    "        p1 = pauli_vec[i,:2]@ np.array([1,2])\n",
    "        if  p1 == 0:\n",
    "            p_st += 'I'\n",
    "        elif  p1 == 1:\n",
    "            p_st += 'Z'\n",
    "        elif  p1 == 2:\n",
    "            p_st += 'X'\n",
    "        else:\n",
    "            p_st += 'Y'\n",
    "        p2 = pauli_vec[i,2:]@ np.array([1,2])\n",
    "        if  p2 == 0:\n",
    "            p_st += 'I'\n",
    "        elif  p2 == 1:\n",
    "            p_st += 'Z'\n",
    "        elif  p2 == 2:\n",
    "            p_st += 'X'\n",
    "        else:\n",
    "            p_st += 'Y'\n",
    "    \n",
    "        pauli_combined.append((p_st,err_prob[i]))\n",
    "    return pauli_combined"
   ]
  },
  {
   "cell_type": "code",
   "execution_count": 66,
   "id": "d53a37b2",
   "metadata": {},
   "outputs": [],
   "source": []
  },
  {
   "cell_type": "code",
   "execution_count": 9,
   "id": "05ca864e",
   "metadata": {},
   "outputs": [],
   "source": [
    "error= CNOT_error(.01)"
   ]
  },
  {
   "cell_type": "code",
   "execution_count": 12,
   "id": "14abacb2",
   "metadata": {},
   "outputs": [
    {
     "name": "stdout",
     "output_type": "stream",
     "text": [
      "1\n",
      "2\n",
      "3\n",
      "4\n",
      "5\n",
      "6\n",
      "7\n",
      "8\n",
      "9\n",
      "10\n",
      "11\n",
      "12\n",
      "13\n",
      "14\n",
      "15\n"
     ]
    },
    {
     "data": {
      "image/png": "[encoded data removed]",
      "text/plain": [
       "<Figure size 432x288 with 1 Axes>"
      ]
     },
     "metadata": {
      "needs_background": "light"
     },
     "output_type": "display_data"
    }
   ],
   "source": [
    "# Fixing random state for reproducibility\n",
    "np.random.seed(19180801)\n",
    "\n",
    "# Example data\n",
    "channel = []\n",
    "performance = []\n",
    "for i in range (1,16):\n",
    "    print(i)\n",
    "    channel.append(error[i][0])\n",
    "    performance.append(error[i][1])\n",
    "y_pos = np.arange(len(error)-1)\n",
    "\n",
    "fig, ax = plt.subplots()\n",
    "\n",
    "hbars = ax.barh(y_pos, performance, align='center')\n",
    "ax.set_yticks(y_pos, labels=channel)\n",
    "ax.invert_yaxis()  # labels read top-to-bottom\n",
    "ax.set_xlabel('P_a')\n",
    "ax.set_title('Effective error channel in a N.N. CNOT gate')\n",
    "\n",
    "# Label with specially formatted floats\n",
    "ax.bar_label(hbars, fmt='%.4f')\n",
    "ax.set_xlim(right=.02)  # adjust xlim to fit labels\n",
    "plt.savefig('cnot.pdf')\n",
    "plt.show()"
   ]
  },
  {
   "cell_type": "code",
   "execution_count": 61,
   "id": "dd024a44",
   "metadata": {},
   "outputs": [
    {
     "ename": "IndexError",
     "evalue": "invalid index to scalar variable.",
     "output_type": "error",
     "traceback": [
      "\u001b[0;31m---------------------------------------------------------------------------\u001b[0m",
      "\u001b[0;31mIndexError\u001b[0m                                Traceback (most recent call last)",
      "Input \u001b[0;32mIn [61]\u001b[0m, in \u001b[0;36m<cell line: 1>\u001b[0;34m()\u001b[0m\n\u001b[0;32m----> 1\u001b[0m \u001b[43merror\u001b[49m\u001b[43m[\u001b[49m\u001b[38;5;241;43m1\u001b[39;49m\u001b[43m]\u001b[49m\u001b[43m[\u001b[49m\u001b[38;5;241;43m0\u001b[39;49m\u001b[43m]\u001b[49m\n",
      "\u001b[0;31mIndexError\u001b[0m: invalid index to scalar variable."
     ]
    }
   ],
   "source": [
    "error[1][0]"
   ]
  },
  {
   "cell_type": "code",
   "execution_count": 34,
   "id": "416f99be",
   "metadata": {},
   "outputs": [
    {
     "data": {
      "text/plain": [
       "[<matplotlib.lines.Line2D at 0x7fa9e022dcd0>]"
      ]
     },
     "execution_count": 34,
     "metadata": {},
     "output_type": "execute_result"
    },
    {
     "data": {
      "image/png": "[encoded data removed]",
      "text/plain": [
       "<Figure size 432x288 with 1 Axes>"
      ]
     },
     "metadata": {
      "needs_background": "light"
     },
     "output_type": "display_data"
    }
   ],
   "source": [
    "p = np.arange(10)*1e-2\n",
    "\n",
    "F_avg = error_rules(p, 'H',theta = 0)\n",
    "plt.plot(p,F_avg)"
   ]
  }
 ],
 "metadata": {
  "kernelspec": {
   "display_name": "Python 3 (ipykernel)",
   "language": "python",
   "name": "python3"
  },
  "language_info": {
   "codemirror_mode": {
    "name": "ipython",
    "version": 3
   },
   "file_extension": ".py",
   "mimetype": "text/x-python",
   "name": "python",
   "nbconvert_exporter": "python",
   "pygments_lexer": "ipython3",
   "version": "3.9.12"
  }
 },
 "nbformat": 4,
 "nbformat_minor": 5
}
