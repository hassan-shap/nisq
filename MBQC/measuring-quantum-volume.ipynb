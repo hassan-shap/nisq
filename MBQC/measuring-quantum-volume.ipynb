{
 "cells": [
  {
   "cell_type": "markdown",
   "metadata": {
    "tags": [
     "remove_cell"
    ]
   },
   "source": [
    "# Measuring Quantum Volume"
   ]
  },
  {
   "cell_type": "markdown",
   "metadata": {},
   "source": [
    "## Introduction\n",
    "\n",
    "**Quantum Volume (QV)** is a single-number metric that can be measured using a concrete\n",
    "protocol on near-term quantum computers of modest size. The QV method quantifies\n",
    "the largest random circuit of equal width and depth that the computer successfully implements.\n",
    "Quantum computing systems with high-fidelity operations, high connectivity, large calibrated gate\n",
    "sets, and circuit rewriting toolchains are expected to have higher quantum volumes. \n",
    "\n",
    "\n",
    "## The Quantum Volume Protocol\n",
    "\n",
    "A QV protocol (see [1]) consists of the following steps:\n",
    "\n",
    "(We should first import the relevant qiskit classes for the demonstration)."
   ]
  },
  {
   "cell_type": "code",
   "execution_count": 3,
   "metadata": {},
   "outputs": [],
   "source": [
    "import matplotlib.pyplot as plt\n",
    "from IPython.display import clear_output\n",
    "\n",
    "#Import Qiskit classes\n",
    "import qiskit\n",
    "from qiskit import assemble, transpile\n",
    "from qiskit.providers.aer.noise import NoiseModel\n",
    "from qiskit.providers.aer.noise.errors.standard_errors import depolarizing_error, thermal_relaxation_error\n",
    "\n",
    "#Import the qv function\n",
    "import qiskit.ignis.verification.quantum_volume as qv\n",
    "\n",
    "from MBQC_basic_functions import*\n"
   ]
  },
  {
   "cell_type": "markdown",
   "metadata": {},
   "source": [
    "### Step 0: Generate MBQC error models\n",
    "In this step we convert errors from measurement level to gate level"
   ]
  },
  {
   "cell_type": "code",
   "execution_count": 4,
   "metadata": {},
   "outputs": [],
   "source": [
    "p_meas = 1e-4 #measurement error goes here\n"
   ]
  },
  {
   "cell_type": "markdown",
   "metadata": {},
   "source": [
    "### Step 1: Generate QV sequences\n",
    "\n",
    "It is well-known that quantum algorithms can be expressed as polynomial-sized quantum circuits built from two-qubit unitary gates. Therefore, a model circuit consists of $d$ layers of random permutations of the qubit labels, followed by random two-qubit gates (from $SU(4)$). When the circuit width $m$ is odd, one of the qubits is idle in each layer.\n",
    "\n",
    "More precisely, a **QV circuit** with **depth $d$** and **width $m$**, is a sequence $U = U^{(d)}...U^{(2)}U^{(1)}$ of $d$ layers:\n",
    "\n",
    "\n",
    "$$ U^{(t)} = U^{(t)}_{\\pi_t(m'-1),\\pi_t(m)} \\otimes ... \\otimes U^{(t)}_{\\pi_t(1),\\pi_t(2)} $$\n",
    "\n",
    "\n",
    "each labeled by times $t = 1 ... d$ and acting on $m' = 2 \\lfloor n/2 \\rfloor$ qubits. \n",
    "Each layer is specified by choosing a uniformly random permutation $\\pi_t \\in S_m$ of the $m$ qubit indices\n",
    "and sampling each $U^{(t)}_{a,b}$, acting on qubits $a$ and $b$, from the Haar measure on $SU(4)$.\n",
    "\n",
    "In the following example we have 6 qubits Q0,Q1,Q3,Q5,Q7,Q10. We are going to look at subsets up to the full set\n",
    "(each volume circuit will be depth equal to the number of qubits in the subset)"
   ]
  },
  {
   "cell_type": "code",
   "execution_count": 5,
   "metadata": {},
   "outputs": [],
   "source": [
    "a = [np.arange(i)*2 for i in range(3,10)]"
   ]
  },
  {
   "cell_type": "code",
   "execution_count": 88,
   "metadata": {},
   "outputs": [],
   "source": [
    "# qubit_lists: list of list of qubit subsets to generate QV circuits\n",
    "qubit_lists = [[0,1,3],[0,1,3,5],[0,1,3,5,7],[0,1,3,5,7,10],[0,1,3,5,7,10,12],[0,1,3,5,7,10,12,15],]#[0,1,3,5,7,10,12,15,17],[0,1,3,5,7,10,12,15,17,19],]\n",
    " ##[list(np.arange(i)*2) for i in range(3,10)]#[[0,1,3],[0,1,3,5],[0,1,3,5,7],[0,1,3,5,7,10],[0,1,3,5,7,10]]\n",
    "# ntrials: Number of random circuits to create for each subset\n",
    "ntrials = 200"
   ]
  },
  {
   "cell_type": "markdown",
   "metadata": {},
   "source": [
    "We generate the quantum volume sequences. We start with a small example (so it doesn't take too long to run)."
   ]
  },
  {
   "cell_type": "code",
   "execution_count": 89,
   "metadata": {},
   "outputs": [],
   "source": [
    "import warnings\n",
    "warnings.filterwarnings('ignore')\n",
    "qv_circs, qv_circs_nomeas = qv.qv_circuits(qubit_lists, ntrials)"
   ]
  },
  {
   "cell_type": "markdown",
   "metadata": {},
   "source": [
    "As an example, we print the circuit corresponding to the first QV sequence. Note that the ideal circuits are run on the first n qubits (where n is the number of qubits in the subset)."
   ]
  },
  {
   "cell_type": "code",
   "execution_count": 90,
   "metadata": {},
   "outputs": [],
   "source": [
    "# pass the first trial of the nomeas through the transpiler to illustrate the circuit\n",
    "qv_circs_nomeas[0] = qiskit.compiler.transpile(qv_circs_nomeas[0], basis_gates=['u1','u2','u3','cx'])"
   ]
  },
  {
   "cell_type": "code",
   "execution_count": 91,
   "metadata": {},
   "outputs": [
    {
     "data": {
      "text/html": [
       "<pre style=\"word-wrap: normal;white-space: pre;background: #fff0;line-height: 1.1;font-family: &quot;Courier New&quot;,Courier,monospace\">global phase: 6.0121\n",
       "     ┌─────────────────────────────┐┌───┐┌─────────────────────────────┐┌───┐┌───────────────────────────┐┌───┐┌────────────────────────────┐       ┌───────────────────────┐            ┌────────────────────┐         ┌──────────────────────────┐                                                                                                          \n",
       "q_0: ┤ U3(1.5974,0.29687,-0.87164) ├┤ X ├┤ U3(1.9194,-2.4224,-0.37199) ├┤ X ├┤ U3(2π/3,0.61548,-0.61548) ├┤ X ├┤ U3(1.1273,-2.3702,0.40781) ├──■────┤ U3(0.56289,-π/2,-π/2) ├─────■──────┤ U3(0.29722,-π,π/2) ├─────■───┤ U3(2.4162,1.5129,2.5333) ├──────────────────────────────────────────────────────────────────────────────────────────────────────────\n",
       "     ├─────────────────────────────┤└─┬─┘└──┬───────────────────────┬──┘└─┬─┘└──┬─────────────────────┬──┘└─┬─┘└┬──────────────────────────┬┘┌─┴─┐┌─┴───────────────────────┴──┐┌─┴─┐┌───┴────────────────────┴──┐┌─┴─┐┌┴──────────────────────────┤┌───┐┌─────────────────────────────┐┌───┐┌───────────────────────────┐┌───┐┌─────────────────────────────┐\n",
       "q_1: ┤ U3(0.15089,-2.0986,0.18946) ├──■─────┤ U3(0.10591,-π/2,-π/2) ├─────■─────┤ U3(0.018282,0,-π/2) ├─────■───┤ U3(1.4092,-1.6881,2.154) ├─┤ X ├┤ U3(1.7885,-2.3807,-0.2231) ├┤ X ├┤ U3(2π/3,0.61548,-0.61548) ├┤ X ├┤ U3(1.509,-2.3836,-2.8152) ├┤ X ├┤ U3(2.0345,-2.4826,-0.52371) ├┤ X ├┤ U3(2π/3,0.61548,-0.61548) ├┤ X ├┤ U3(0.57625,-0.94095,2.4862) ├\n",
       "     ├─────────────────────────────┤        └───────────────────────┘           └─────────────────────┘         └──────────────────────────┘ └───┘└────────────────────────────┘└───┘└───────────────────────────┘└───┘└───────────────────────────┘└─┬─┘└──┬───────────────────────┬──┘└─┬─┘└───┬────────────────────┬──┘└─┬─┘└┬────────────────────────────┤\n",
       "q_2: ┤ U3(1.5792,0.45173,-0.40309) ├──────────────────────────────────────────────────────────────────────────────────────────────────────────────────────────────────────────────────────────────────────────────────────────────────────────────────■─────┤ U3(0.98211,-π/2,-π/2) ├─────■──────┤ U3(0.36911,0,-π/2) ├─────■───┤ U3(1.2086,-2.0986,0.96373) ├\n",
       "     └─────────────────────────────┘                                                                                                                                                                                                                        └───────────────────────┘            └────────────────────┘         └────────────────────────────┘</pre>"
      ],
      "text/plain": [
       "global phase: 6.0121\n",
       "     ┌─────────────────────────────┐┌───┐┌─────────────────────────────┐┌───┐┌───────────────────────────┐┌───┐┌────────────────────────────┐       ┌───────────────────────┐            ┌────────────────────┐         ┌──────────────────────────┐                                                                                                          \n",
       "q_0: ┤ U3(1.5974,0.29687,-0.87164) ├┤ X ├┤ U3(1.9194,-2.4224,-0.37199) ├┤ X ├┤ U3(2π/3,0.61548,-0.61548) ├┤ X ├┤ U3(1.1273,-2.3702,0.40781) ├──■────┤ U3(0.56289,-π/2,-π/2) ├─────■──────┤ U3(0.29722,-π,π/2) ├─────■───┤ U3(2.4162,1.5129,2.5333) ├──────────────────────────────────────────────────────────────────────────────────────────────────────────\n",
       "     ├─────────────────────────────┤└─┬─┘└──┬───────────────────────┬──┘└─┬─┘└──┬─────────────────────┬──┘└─┬─┘└┬──────────────────────────┬┘┌─┴─┐┌─┴───────────────────────┴──┐┌─┴─┐┌───┴────────────────────┴──┐┌─┴─┐┌┴──────────────────────────┤┌───┐┌─────────────────────────────┐┌───┐┌───────────────────────────┐┌───┐┌─────────────────────────────┐\n",
       "q_1: ┤ U3(0.15089,-2.0986,0.18946) ├──■─────┤ U3(0.10591,-π/2,-π/2) ├─────■─────┤ U3(0.018282,0,-π/2) ├─────■───┤ U3(1.4092,-1.6881,2.154) ├─┤ X ├┤ U3(1.7885,-2.3807,-0.2231) ├┤ X ├┤ U3(2π/3,0.61548,-0.61548) ├┤ X ├┤ U3(1.509,-2.3836,-2.8152) ├┤ X ├┤ U3(2.0345,-2.4826,-0.52371) ├┤ X ├┤ U3(2π/3,0.61548,-0.61548) ├┤ X ├┤ U3(0.57625,-0.94095,2.4862) ├\n",
       "     ├─────────────────────────────┤        └───────────────────────┘           └─────────────────────┘         └──────────────────────────┘ └───┘└────────────────────────────┘└───┘└───────────────────────────┘└───┘└───────────────────────────┘└─┬─┘└──┬───────────────────────┬──┘└─┬─┘└───┬────────────────────┬──┘└─┬─┘└┬────────────────────────────┤\n",
       "q_2: ┤ U3(1.5792,0.45173,-0.40309) ├──────────────────────────────────────────────────────────────────────────────────────────────────────────────────────────────────────────────────────────────────────────────────────────────────────────────────■─────┤ U3(0.98211,-π/2,-π/2) ├─────■──────┤ U3(0.36911,0,-π/2) ├─────■───┤ U3(1.2086,-2.0986,0.96373) ├\n",
       "     └─────────────────────────────┘                                                                                                                                                                                                                        └───────────────────────┘            └────────────────────┘         └────────────────────────────┘"
      ]
     },
     "execution_count": 91,
     "metadata": {},
     "output_type": "execute_result"
    }
   ],
   "source": [
    "qv_circs_nomeas[0][0].draw(fold=-1)"
   ]
  },
  {
   "cell_type": "markdown",
   "metadata": {},
   "source": [
    "### Step 2: Simulate the ideal QV circuits\n",
    "\n",
    "The quantum volume method requires that we know the ideal output for each circuit, so we use the Aer simulator to get the ideal result."
   ]
  },
  {
   "cell_type": "code",
   "execution_count": 92,
   "metadata": {},
   "outputs": [
    {
     "name": "stdout",
     "output_type": "stream",
     "text": [
      "Simulated trial 200/200\n"
     ]
    }
   ],
   "source": [
    "sv_sim = qiskit.Aer.get_backend('aer_simulator')\n",
    "ideal_results = []\n",
    "for trial in range(ntrials):\n",
    "    clear_output(wait=True)\n",
    "    for qc in qv_circs_nomeas[trial]:\n",
    "        qc.save_statevector()\n",
    "    result = qiskit.execute(qv_circs_nomeas[trial], backend=sv_sim).result()\n",
    "    ideal_results.append(result)\n",
    "    print(f'Simulated trial {trial+1}/{ntrials}')"
   ]
  },
  {
   "cell_type": "markdown",
   "metadata": {},
   "source": [
    "Next, we load the ideal results into a quantum volume fitter"
   ]
  },
  {
   "cell_type": "code",
   "execution_count": 93,
   "metadata": {},
   "outputs": [],
   "source": [
    "qv_fitter = qv.QVFitter(qubit_lists=qubit_lists)\n",
    "qv_fitter.add_statevectors(ideal_results)"
   ]
  },
  {
   "cell_type": "markdown",
   "metadata": {},
   "source": [
    "### Step 3: Calculate the heavy outputs\n",
    "\n",
    "To define when a model circuit $U$ has been successfully implemented in practice, we use the *heavy output* generation problem. The ideal output distribution is $p_U(x) = |\\langle x|U|0 \\rangle|^2$, \n",
    "where $x \\in \\{0,1\\}^m$ is an observable bit-string. \n",
    "\n",
    "Consider the set of output probabilities given by the range of $p_U(x)$ sorted in ascending order \n",
    "$p_0 \\leq p_1 \\leq \\dots \\leq p_{2^m-1}$. The median of the set of probabilities is \n",
    "$p_{med} = (p_{2^{m-1}} + p_{2^{m-1}-1})/2$, and the *heavy outputs* are\n",
    "\n",
    "\n",
    "$$ H_U = \\{ x \\in \\{0,1\\}^m \\text{ such that } p_U(x)>p_{med} \\}.$$\n",
    "\n",
    "\n",
    "The heavy output generation problem is to produce a set of output strings such that more than two-thirds are heavy.\n",
    "\n",
    "As an illustration, we print the heavy outputs from various depths and their probabilities (for trial 0):"
   ]
  },
  {
   "cell_type": "code",
   "execution_count": 94,
   "metadata": {},
   "outputs": [
    {
     "name": "stdout",
     "output_type": "stream",
     "text": [
      "qv_depth_3_trial_0: ['001', '010', '011', '100']\n",
      "qv_depth_4_trial_0: ['0011', '0111', '1000', '1010', '1011', '1100', '1110', '1111']\n",
      "qv_depth_5_trial_0: ['00000', '00001', '00110', '00111', '01001', '01010', '01011', '01111', '10010', '10011', '10110', '10111', '11010', '11011', '11110', '11111']\n",
      "qv_depth_6_trial_0: ['000000', '000010', '000011', '000101', '000111', '001001', '001010', '001011', '001110', '010001', '010011', '010100', '010101', '010111', '011001', '011011', '011111', '100000', '100010', '100101', '100111', '101001', '101011', '101100', '101101', '110001', '110101', '110110', '111000', '111001', '111100', '111111']\n",
      "qv_depth_7_trial_0: ['0000000', '0000010', '0000100', '0000101', '0000110', '0001011', '0001100', '0001101', '0010000', '0010010', '0010011', '0010100', '0010111', '0011000', '0011001', '0011010', '0011011', '0011101', '0011111', '0100011', '0100100', '0100110', '0100111', '0101000', '0101001', '0101010', '0101011', '0101110', '0101111', '0110000', '0110010', '0110100', '0110110', '0111110', '0111111', '1000000', '1000011', '1000101', '1000110', '1000111', '1001100', '1001110', '1001111', '1010010', '1010011', '1010110', '1011000', '1011100', '1011111', '1100010', '1100011', '1100110', '1100111', '1101001', '1101101', '1101110', '1101111', '1110000', '1110010', '1110011', '1110101', '1111001', '1111110', '1111111']\n",
      "qv_depth_8_trial_0: ['00000000', '00000001', '00000110', '00001010', '00001100', '00010000', '00010110', '00010111', '00011000', '00011010', '00011100', '00011101', '00011110', '00011111', '00100000', '00100111', '00101000', '00101011', '00101100', '00101110', '00101111', '00110000', '00110010', '00110100', '00110101', '00110110', '00110111', '00111001', '00111010', '00111100', '00111101', '01000000', '01000010', '01000011', '01000100', '01000101', '01000110', '01001000', '01001010', '01001101', '01001110', '01010010', '01010100', '01010110', '01011101', '01011110', '01011111', '01100000', '01100011', '01101010', '01101011', '01101100', '01101111', '01110010', '01110101', '01110111', '01111010', '01111011', '01111100', '01111101', '10000010', '10000011', '10000101', '10000111', '10001001', '10001010', '10001101', '10001110', '10001111', '10010000', '10010010', '10010011', '10010101', '10011011', '10011100', '10011110', '10100010', '10100011', '10100100', '10100101', '10101001', '10101100', '10101101', '10110000', '10110001', '10110011', '10110101', '10110110', '10110111', '10111000', '10111001', '10111010', '10111011', '10111111', '11000000', '11000001', '11000010', '11000100', '11000101', '11000111', '11001000', '11001010', '11001101', '11001110', '11001111', '11010100', '11010111', '11011000', '11011010', '11011011', '11011101', '11011110', '11011111', '11100000', '11100010', '11100110', '11101000', '11101011', '11101101', '11110000', '11110001', '11110010', '11110011', '11110100', '11110111', '11111010', '11111101', '11111110']\n"
     ]
    }
   ],
   "source": [
    "for qubit_list in qubit_lists:\n",
    "    l = len(qubit_list)\n",
    "    print ('qv_depth_'+str(l)+'_trial_0:', qv_fitter._heavy_outputs['qv_depth_'+str(l)+'_trial_0'])"
   ]
  },
  {
   "cell_type": "code",
   "execution_count": 95,
   "metadata": {},
   "outputs": [
    {
     "name": "stdout",
     "output_type": "stream",
     "text": [
      "qv_depth_3_trial_0: 0.8262103971177747\n",
      "qv_depth_4_trial_0: 0.8337311478567577\n",
      "qv_depth_5_trial_0: 0.858276030543175\n",
      "qv_depth_6_trial_0: 0.883782992526845\n",
      "qv_depth_7_trial_0: 0.8544779789985012\n",
      "qv_depth_8_trial_0: 0.8395423759632067\n"
     ]
    }
   ],
   "source": [
    "for qubit_list in qubit_lists:\n",
    "    l = len(qubit_list)\n",
    "    print ('qv_depth_'+str(l)+'_trial_0:', qv_fitter._heavy_output_prob_ideal['qv_depth_'+str(l)+'_trial_0'])"
   ]
  },
  {
   "cell_type": "markdown",
   "metadata": {},
   "source": [
    "### Step 4: Define the noise model\n",
    "\n",
    "We define a noise model for the simulator. To simulate decay, we add depolarizing error probabilities to the CNOT and U gates."
   ]
  },
  {
   "cell_type": "code",
   "execution_count": 97,
   "metadata": {},
   "outputs": [],
   "source": [
    "# define a extra factor of n, which is supposed to be non-clifford measurement\n",
    "# try: multiplier = 1, 5, 10, 20\n",
    "multiplier = 20\n",
    "total_error = p_meas*2/3*(1+3*multiplier)\n",
    "\n",
    "model = [('I',1 - total_error), ('X',total_error/3),('Y',total_error/3),('Z',total_error/3)]\n",
    "noise_model = NoiseModel()\n",
    "noise_model.add_all_qubit_quantum_error(pauli_error(model), 'u2')\n",
    "noise_model.add_all_qubit_quantum_error(pauli_error(model), 'u3')\n",
    "noise_model.add_all_qubit_quantum_error(pauli_error(CNOT_error(p_meas*5)), 'cx')"
   ]
  },
  {
   "cell_type": "code",
   "execution_count": 104,
   "metadata": {},
   "outputs": [
    {
     "data": {
      "text/plain": [
       "[('II', 0.9991337021277198),\n",
       " ('ZI', 0.00013325779881137814),\n",
       " ('XI', 6.664000562891858e-05),\n",
       " ('YI', 6.664000562891858e-05),\n",
       " ('IZ', 6.663112207202e-05),\n",
       " ('ZZ', 0.0001332355919919419),\n",
       " ('XZ', 1.3328889560438525e-08),\n",
       " ('YZ', 1.3328889560438525e-08),\n",
       " ('IX', 0.00019985782784122613),\n",
       " ('ZX', 6.664888859350106e-05),\n",
       " ('XX', 6.664000562891858e-05),\n",
       " ('YX', 6.664000562891858e-05),\n",
       " ('IY', 2.2211854142922828e-08),\n",
       " ('ZY', 3.1093042171973105e-08),\n",
       " ('XY', 1.3328889560438525e-08),\n",
       " ('YY', 1.3328889560438525e-08)]"
      ]
     },
     "execution_count": 104,
     "metadata": {},
     "output_type": "execute_result"
    }
   ],
   "source": [
    "CNOT_error(p_meas)"
   ]
  },
  {
   "cell_type": "markdown",
   "metadata": {},
   "source": [
    "We can execute the QV sequences either using Qiskit Aer Simulator (with some noise model) or using IBMQ provider, and obtain a list of exp_results."
   ]
  },
  {
   "cell_type": "code",
   "execution_count": 100,
   "metadata": {},
   "outputs": [
    {
     "name": "stdout",
     "output_type": "stream",
     "text": [
      "Completed trial 200/200\n"
     ]
    }
   ],
   "source": [
    "aer_sim = qiskit.Aer.get_backend('aer_simulator')\n",
    "basis_gates = ['u1','u2','u3','cx'] # use U,CX for now\n",
    "exp_results = []\n",
    "for trial in range(ntrials):\n",
    "    clear_output(wait=True)\n",
    "    t_qcs = transpile(qv_circs[trial], basis_gates=basis_gates, optimization_level=3)\n",
    "    qobj = assemble(t_qcs)\n",
    "    result = aer_sim.run(qobj, noise_model=noise_model, max_parallel_experiments=0).result()\n",
    "    exp_results.append(result)\n",
    "    print(f'Completed trial {trial+1}/{ntrials}')"
   ]
  },
  {
   "cell_type": "markdown",
   "metadata": {},
   "source": [
    "### Step 5: Calculate the average gate fidelity\n",
    "\n",
    "The *average gate fidelity* between the $m$-qubit ideal unitaries $U$ and the executed $U'$ is:\n",
    "\n",
    "\n",
    "$$ F_{avg}(U,U') = \\frac{|Tr(U^{\\dagger}U')|^2/2^m+1}{2^m+1}$$\n",
    "\n",
    "\n",
    "\n",
    "The observed distribution for an implementation $U'$ of model circuit $U$ is $q_U(x)$, and the probability of sampling\n",
    "a heavy output is:\n",
    "\n",
    "\n",
    "$$ h_U = \\sum_{x \\in H_U} q_U(x)$$\n",
    "\n",
    "\n",
    "\n",
    "As an illustration, we print the heavy output counts from various depths (for trial 0):"
   ]
  },
  {
   "cell_type": "code",
   "execution_count": 101,
   "metadata": {},
   "outputs": [
    {
     "name": "stdout",
     "output_type": "stream",
     "text": [
      "qv_depth_3_trial_0: 834\n",
      "qv_depth_4_trial_0: 817\n",
      "qv_depth_5_trial_0: 807\n",
      "qv_depth_6_trial_0: 782\n",
      "qv_depth_7_trial_0: 687\n",
      "qv_depth_8_trial_0: 634\n"
     ]
    }
   ],
   "source": [
    "qv_fitter.add_data(exp_results)\n",
    "for qubit_list in qubit_lists:\n",
    "    l = len(qubit_list)\n",
    "    print ('qv_depth_'+str(l)+'_trial_0:', qv_fitter._heavy_output_counts['qv_depth_'+str(l)+'_trial_0'])"
   ]
  },
  {
   "cell_type": "markdown",
   "metadata": {},
   "source": [
    "### Step 6: Calculate the achievable depth\n",
    "\n",
    "The probability of observing a heavy output by implementing a randomly selected depth $d$ model circuit is:\n",
    "\n",
    "\n",
    "$$h_d = \\int_U h_U dU$$\n",
    "\n",
    "\n",
    "\n",
    "The *achievable depth* $d(m)$ is the largest $d$ such that we are confident that $h_d > 2/3$. In other words,\n",
    "\n",
    "\n",
    "$$ h_1,h_2,\\dots,h_{d(m)}>2/3 \\text{ and } h_{d(m)+1} \\leq 2/3$$\n",
    "\n",
    "\n",
    "\n",
    "We now convert the heavy outputs in the different trials and calculate the mean $h_d$ and the error for plotting the graph."
   ]
  },
  {
   "cell_type": "code",
   "execution_count": 102,
   "metadata": {},
   "outputs": [
    {
     "data": {
      "image/png": "[encoded data removed]",
      "text/plain": [
       "<Figure size 720x432 with 1 Axes>"
      ]
     },
     "metadata": {
      "needs_background": "light"
     },
     "output_type": "display_data"
    }
   ],
   "source": [
    "plt.figure(figsize=(10, 6))\n",
    "ax = plt.gca()\n",
    "\n",
    "# Plot the essence by calling plot_rb_data\n",
    "qv_fitter.plot_qv_data(ax=ax, show_plt=False)\n",
    "\n",
    "# Add title and label\n",
    "ax.set_title('Quantum Volume for up to %d Qubits \\n and %d Trials'%(len(qubit_lists[-1]), ntrials), fontsize=18)\n",
    "plt.savefig('QV_example.pdf')\n",
    "plt.show()"
   ]
  },
  {
   "cell_type": "markdown",
   "metadata": {},
   "source": [
    "### Step 7: Calculate the Quantum Volume\n",
    "\n",
    "\n",
    "The quantum volume treats the width and depth of a model circuit with equal importance and measures the largest square-shaped (i.e., $m = d$) model circuit a quantum computer can implement successfully on average. \n",
    "\n",
    "The *quantum volume* $V_Q$ is defined as\n",
    "\n",
    "\n",
    "$$\\log_2 V_Q = \\arg\\max_{m} \\min (m, d(m))$$\n",
    "\n"
   ]
  },
  {
   "cell_type": "markdown",
   "metadata": {},
   "source": [
    "We list the statistics for each depth. For each depth we list if the depth was successful or not and with what confidence interval. For a depth to be successful the confidence interval must be > 97.5%."
   ]
  },
  {
   "cell_type": "code",
   "execution_count": 209,
   "metadata": {},
   "outputs": [
    {
     "name": "stdout",
     "output_type": "stream",
     "text": [
      "Width/depth 3 greater than 2/3 (0.822998) with confidence 0.999979 (successful). Quantum volume 8\n",
      "Width/depth 4 greater than 2/3 (0.829106) with confidence 0.999992 (successful). Quantum volume 16\n",
      "Width/depth 5 greater than 2/3 (0.840854) with confidence 0.999999 (successful). Quantum volume 32\n",
      "Width/depth 6 greater than 2/3 (0.816475) with confidence 0.999946 (successful). Quantum volume 64\n",
      "Width/depth 7 greater than 2/3 (0.814414) with confidence 0.999928 (successful). Quantum volume 128\n",
      "Width/depth 8 greater than 2/3 (0.784819) with confidence 0.997981 (successful). Quantum volume 256\n",
      "Width/depth 9 greater than 2/3 (0.772759) with confidence 0.994325 (successful). Quantum volume 512\n",
      "Width/depth 10 greater than 2/3 (0.743042) with confidence 0.959759 (unsuccessful).\n",
      "Width/depth 11 greater than 2/3 (0.732500) with confidence 0.931524 (unsuccessful).\n"
     ]
    }
   ],
   "source": [
    "qv_success_list = qv_fitter.qv_success()\n",
    "qv_list = qv_fitter.ydata\n",
    "QV = 1\n",
    "for qidx, qubit_list in enumerate(qubit_lists):\n",
    "    if qv_list[0][qidx]>2/3:\n",
    "        if qv_success_list[qidx][0]:\n",
    "            print(\"Width/depth %d greater than 2/3 (%f) with confidence %f (successful). Quantum volume %d\"%\n",
    "                  (len(qubit_list),qv_list[0][qidx],qv_success_list[qidx][1],qv_fitter.quantum_volume()[qidx]))\n",
    "            QV = qv_fitter.quantum_volume()[qidx]\n",
    "        else:\n",
    "            print(\"Width/depth %d greater than 2/3 (%f) with confidence %f (unsuccessful).\"%\n",
    "                  (len(qubit_list),qv_list[0][qidx],qv_success_list[qidx][1]))\n",
    "    else:\n",
    "        print(\"Width/depth %d less than 2/3 (unsuccessful).\"%len(qubit_list))"
   ]
  },
  {
   "cell_type": "code",
   "execution_count": 103,
   "metadata": {},
   "outputs": [
    {
     "name": "stdout",
     "output_type": "stream",
     "text": [
      "[[0.81529785 0.77637207 0.78096191 0.72121582 0.70796875 0.64787598]\n",
      " [0.02743969 0.02946341 0.02924555 0.03170675 0.0321519  0.03377371]\n",
      " [0.84107722 0.83879401 0.85740738 0.85005179 0.85836473 0.85188318]\n",
      " [0.02585211 0.02600179 0.02472448 0.02524517 0.02465509 0.02511755]]\n"
     ]
    }
   ],
   "source": [
    "print(qv_fitter.ydata)"
   ]
  },
  {
   "cell_type": "code",
   "execution_count": 224,
   "metadata": {},
   "outputs": [
    {
     "name": "stdout",
     "output_type": "stream",
     "text": [
      "The Quantum Volume is: 512\n"
     ]
    }
   ],
   "source": [
    "print (\"The Quantum Volume is:\", QV)"
   ]
  },
  {
   "cell_type": "markdown",
   "metadata": {},
   "source": [
    "### References\n",
    "\n",
    "[1] Andrew W. Cross, Lev S. Bishop, Sarah Sheldon, Paul D. Nation, and Jay M. Gambetta, *Validating quantum computers using randomized model circuits*, Phys. Rev. A **100**, 032328 (2019). https://arxiv.org/pdf/1811.12926"
   ]
  },
  {
   "cell_type": "code",
   "execution_count": 17,
   "metadata": {
    "scrolled": false
   },
   "outputs": [
    {
     "data": {
      "text/html": [
       "<h3>Version Information</h3><table><tr><th>Qiskit Software</th><th>Version</th></tr><tr><td>Qiskit</td><td>0.27.0</td></tr><tr><td>Terra</td><td>0.17.4</td></tr><tr><td>Aer</td><td>0.8.2</td></tr><tr><td>Ignis</td><td>0.6.0</td></tr><tr><td>Aqua</td><td>0.9.2</td></tr><tr><td>IBM Q Provider</td><td>0.14.0</td></tr><tr><th>System information</th></tr><tr><td>Python</td><td>3.7.7 (default, May  6 2020, 04:59:01) \n",
       "[Clang 4.0.1 (tags/RELEASE_401/final)]</td></tr><tr><td>OS</td><td>Darwin</td></tr><tr><td>CPUs</td><td>8</td></tr><tr><td>Memory (Gb)</td><td>32.0</td></tr><tr><td colspan='2'>Thu Jun 17 16:25:25 2021 BST</td></tr></table>"
      ],
      "text/plain": [
       "<IPython.core.display.HTML object>"
      ]
     },
     "metadata": {},
     "output_type": "display_data"
    }
   ],
   "source": [
    "import qiskit.tools.jupyter\n",
    "%qiskit_version_table"
   ]
  }
 ],
 "metadata": {
  "kernelspec": {
   "display_name": "Python 3 (ipykernel)",
   "language": "python",
   "name": "python3"
  },
  "language_info": {
   "codemirror_mode": {
    "name": "ipython",
    "version": 3
   },
   "file_extension": ".py",
   "mimetype": "text/x-python",
   "name": "python",
   "nbconvert_exporter": "python",
   "pygments_lexer": "ipython3",
   "version": "3.9.12"
  }
 },
 "nbformat": 4,
 "nbformat_minor": 2
}
